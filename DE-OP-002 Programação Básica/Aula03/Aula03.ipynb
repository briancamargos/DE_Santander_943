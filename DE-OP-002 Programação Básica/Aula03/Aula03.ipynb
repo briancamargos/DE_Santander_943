{
 "cells": [
  {
   "cell_type": "markdown",
   "metadata": {},
   "source": [
    "# Listas"
   ]
  },
  {
   "cell_type": "markdown",
   "metadata": {},
   "source": [
    "Relembrando:"
   ]
  },
  {
   "cell_type": "code",
   "execution_count": 1,
   "metadata": {},
   "outputs": [
    {
     "name": "stdout",
     "output_type": "stream",
     "text": [
      "7.75\n"
     ]
    }
   ],
   "source": [
    "nota1 = float(input('Digite a primeira nota: '))\n",
    "nota2 = float(input('Digite a segunda nota: '))\n",
    "\n",
    "media = (nota1 + nota2)/2\n",
    "\n",
    "print(media)"
   ]
  },
  {
   "cell_type": "code",
   "execution_count": 2,
   "metadata": {},
   "outputs": [
    {
     "name": "stdout",
     "output_type": "stream",
     "text": [
      "6.5\n"
     ]
    }
   ],
   "source": [
    "nota1 = float(input('Digite a primeira nota: '))\n",
    "nota2 = float(input('Digite a segunda nota: '))\n",
    "nota3 = float(input('Digite a terceira nota: '))\n",
    "nota4 = float(input('Digite a quarta nota: '))\n",
    "\n",
    "media = (nota1 + nota2 + nota3 + nota4)/4\n",
    "\n",
    "print(media)"
   ]
  },
  {
   "cell_type": "code",
   "execution_count": null,
   "metadata": {},
   "outputs": [],
   "source": [
    "aluno1 = float(input('Digite a nota do aluno 1:'))\n",
    "aluno2 = float(input('Digite a nota do aluno 2:'))\n",
    "aluno3 = float(input('Digite a nota do aluno 3:'))\n",
    "\n",
    "# 80 alunos -> quero saber a média da turma, quero saber qual a nota mais alta e a nota mais baixa"
   ]
  },
  {
   "cell_type": "markdown",
   "metadata": {},
   "source": [
    "Para digitar a nota de 80 alunos, vamos usar listas"
   ]
  },
  {
   "cell_type": "markdown",
   "metadata": {},
   "source": [
    "## Listas\n",
    "\n",
    "Listas são coleções de objetos no python"
   ]
  },
  {
   "cell_type": "code",
   "execution_count": 3,
   "metadata": {},
   "outputs": [
    {
     "name": "stdout",
     "output_type": "stream",
     "text": [
      "[]\n",
      "<class 'list'>\n",
      "[]\n",
      "<class 'list'>\n",
      "[1, 4.6, -7, 8, 'dez', True]\n",
      "<class 'list'>\n"
     ]
    }
   ],
   "source": [
    "primeira_lista = []   # criando uma lista vazia\n",
    "print(primeira_lista)\n",
    "print(type(primeira_lista))\n",
    "\n",
    "segunda_lista = list()  # criando uma lista vazia\n",
    "print(segunda_lista)\n",
    "print(type(segunda_lista))\n",
    "\n",
    "terceira_lista = [1, 4.6, -7, 8, 'dez', True] # Criando lista com objetos - int, float, str, bool\n",
    "print(terceira_lista)\n",
    "print(type(terceira_lista))\n"
   ]
  },
  {
   "cell_type": "markdown",
   "metadata": {},
   "source": [
    "A lista possui valores e índices (automaticamente)"
   ]
  },
  {
   "cell_type": "markdown",
   "metadata": {},
   "source": [
    "elemento  1  4.6  -7   8   'dez'  True\n",
    "índice    0  1    2    3   4      5"
   ]
  },
  {
   "cell_type": "markdown",
   "metadata": {},
   "source": [
    "A lista é mutável. Podemos modificar os valores já existentes"
   ]
  },
  {
   "cell_type": "code",
   "execution_count": 4,
   "metadata": {},
   "outputs": [
    {
     "data": {
      "text/plain": [
       "8"
      ]
     },
     "execution_count": 4,
     "metadata": {},
     "output_type": "execute_result"
    }
   ],
   "source": [
    "terceira_lista = [1, 4.6, -7, 8, 'dez', True]\n",
    "\n",
    "terceira_lista[3] # acessar através do índice"
   ]
  },
  {
   "cell_type": "code",
   "execution_count": 5,
   "metadata": {},
   "outputs": [
    {
     "data": {
      "text/plain": [
       "[7, 9, 11]"
      ]
     },
     "execution_count": 5,
     "metadata": {},
     "output_type": "execute_result"
    }
   ],
   "source": [
    "# Acessar um parte da lista (slice)\n",
    "\n",
    "impares = [1, 3, 5, 7, 9, 11, 13, 15, 17]\n",
    "# indices  0  1  2  3  4  5   6   7   8\n",
    "\n",
    "# acessar os valores 7, 9 e 11\n",
    "\n",
    "impares[3:6] # acessar [indice_inicial: indice_final] -> índice final é EXCLUSIVO"
   ]
  },
  {
   "cell_type": "code",
   "execution_count": 9,
   "metadata": {},
   "outputs": [
    {
     "data": {
      "text/plain": [
       "[1, 3, 5, 7, 9, 11]"
      ]
     },
     "execution_count": 9,
     "metadata": {},
     "output_type": "execute_result"
    }
   ],
   "source": [
    "impares[:6]"
   ]
  },
  {
   "cell_type": "code",
   "execution_count": 10,
   "metadata": {},
   "outputs": [
    {
     "data": {
      "text/plain": [
       "[11, 13, 15, 17]"
      ]
     },
     "execution_count": 10,
     "metadata": {},
     "output_type": "execute_result"
    }
   ],
   "source": [
    "impares[5:]"
   ]
  },
  {
   "cell_type": "code",
   "execution_count": 11,
   "metadata": {},
   "outputs": [
    {
     "data": {
      "text/plain": [
       "17"
      ]
     },
     "execution_count": 11,
     "metadata": {},
     "output_type": "execute_result"
    }
   ],
   "source": [
    "impares[-1] # seleciona o último valor da lista"
   ]
  },
  {
   "cell_type": "code",
   "execution_count": 12,
   "metadata": {},
   "outputs": [
    {
     "data": {
      "text/plain": [
       "[3, 6, 9]"
      ]
     },
     "execution_count": 12,
     "metadata": {},
     "output_type": "execute_result"
    }
   ],
   "source": [
    "numeros = [0, 1, 2, 3, 4, 5, 6, 7, 8, 9, 10, 11, 12, 13, 14, 15]\n",
    "\n",
    "# múltiplos de 3 abaixo de 10: # 3, 6 e 9\n",
    "\n",
    "numeros[3:10:3] # posições -> [indice_inicial, indice_final, passo]"
   ]
  },
  {
   "cell_type": "code",
   "execution_count": 13,
   "metadata": {},
   "outputs": [
    {
     "name": "stdout",
     "output_type": "stream",
     "text": [
      "0\n",
      "2\n",
      "4\n",
      "6\n",
      "8\n"
     ]
    }
   ],
   "source": [
    "# maneira mais fácil de percorrer a lista\n",
    "\n",
    "pares = [0, 2, 4, 6, 8]\n",
    "\n",
    "for elemento in pares:\n",
    "    print(elemento)\n",
    "\n"
   ]
  },
  {
   "cell_type": "code",
   "execution_count": 15,
   "metadata": {},
   "outputs": [
    {
     "name": "stdout",
     "output_type": "stream",
     "text": [
      "5\n"
     ]
    }
   ],
   "source": [
    "tamanho = len(pares)\n",
    "print(tamanho)"
   ]
  },
  {
   "cell_type": "code",
   "execution_count": 16,
   "metadata": {},
   "outputs": [
    {
     "name": "stdout",
     "output_type": "stream",
     "text": [
      "0\n",
      "2\n",
      "4\n",
      "6\n",
      "8\n"
     ]
    }
   ],
   "source": [
    "# outra forma de percorrer a lista\n",
    "for indice in range(tamanho):\n",
    "    print(pares[indice])"
   ]
  },
  {
   "cell_type": "markdown",
   "metadata": {},
   "source": [
    "### Funções de listas\n",
    "\n",
    "https://docs.python.org/3/tutorial/datastructures.html"
   ]
  },
  {
   "cell_type": "markdown",
   "metadata": {},
   "source": [
    "Adicionar elementos na lista"
   ]
  },
  {
   "cell_type": "code",
   "execution_count": 17,
   "metadata": {},
   "outputs": [
    {
     "data": {
      "text/plain": [
       "[0, 2, 4, 6, 8]"
      ]
     },
     "execution_count": 17,
     "metadata": {},
     "output_type": "execute_result"
    }
   ],
   "source": [
    "pares"
   ]
  },
  {
   "cell_type": "code",
   "execution_count": 18,
   "metadata": {},
   "outputs": [],
   "source": [
    "pares.append(10) # acrescenta um valor ao final da lista"
   ]
  },
  {
   "cell_type": "code",
   "execution_count": 19,
   "metadata": {},
   "outputs": [
    {
     "data": {
      "text/plain": [
       "[0, 2, 4, 6, 8, 10]"
      ]
     },
     "execution_count": 19,
     "metadata": {},
     "output_type": "execute_result"
    }
   ],
   "source": [
    "pares"
   ]
  },
  {
   "cell_type": "code",
   "execution_count": 20,
   "metadata": {},
   "outputs": [
    {
     "name": "stdout",
     "output_type": "stream",
     "text": [
      "[0, 2, 4, 6, 8, 10]\n"
     ]
    }
   ],
   "source": [
    "# Outra forma de adicionar elemento com a posição da lista\n",
    "\n",
    "pares = [0, 2, 4, 8, 10]\n",
    "\n",
    "# Acrescentar o valor 6 na posição 3\n",
    "\n",
    "pares.insert(3, 6) # a função insert precisa da posição seguida do valor que quero adicionar --> insert(indice, valor)\n",
    "\n",
    "print(pares)"
   ]
  },
  {
   "cell_type": "markdown",
   "metadata": {},
   "source": [
    "Remover um elemento"
   ]
  },
  {
   "cell_type": "code",
   "execution_count": 21,
   "metadata": {},
   "outputs": [
    {
     "name": "stdout",
     "output_type": "stream",
     "text": [
      "[1, 3, 5, 7, 9]\n"
     ]
    }
   ],
   "source": [
    "impares = [1, 3, 3, 5, 7, 9]\n",
    "\n",
    "impares.remove(3) # a função remove o valor - nesse caso a função remove vai remover o primeiro valor 3\n",
    "\n",
    "print(impares)"
   ]
  },
  {
   "cell_type": "code",
   "execution_count": 22,
   "metadata": {},
   "outputs": [
    {
     "name": "stdout",
     "output_type": "stream",
     "text": [
      "[1, 3, 5, 7]\n"
     ]
    }
   ],
   "source": [
    "impares = [1, 3, 5, 7, 9]\n",
    "\n",
    "impares.pop(4) # pop remove o valor da posição, nesse caso o índice 4\n",
    "\n",
    "print(impares)"
   ]
  },
  {
   "cell_type": "code",
   "execution_count": 23,
   "metadata": {},
   "outputs": [
    {
     "data": {
      "text/plain": [
       "8"
      ]
     },
     "execution_count": 23,
     "metadata": {},
     "output_type": "execute_result"
    }
   ],
   "source": [
    "variavel = [1, 3, 4, 8, 10]\n",
    "variavel.pop(3) # mostra qual valor ele irá remover da posição dada"
   ]
  },
  {
   "cell_type": "code",
   "execution_count": 24,
   "metadata": {},
   "outputs": [
    {
     "name": "stdout",
     "output_type": "stream",
     "text": [
      "[1, 3, 4, 8, 10]\n",
      "3\n",
      "[1, 4, 8, 10]\n"
     ]
    }
   ],
   "source": [
    "variavel = [1, 3, 4, 8, 10]\n",
    "print(variavel)\n",
    "print(variavel.pop(1))\n",
    "print(variavel)"
   ]
  },
  {
   "cell_type": "markdown",
   "metadata": {},
   "source": [
    "Atenção: essas funções alteram o valor da lista. Se eu quero guardar ou salvar a lista anterior, preciso associar a outra variável"
   ]
  },
  {
   "cell_type": "code",
   "execution_count": 25,
   "metadata": {},
   "outputs": [
    {
     "name": "stdout",
     "output_type": "stream",
     "text": [
      "[12, 45, 78, 98, 100]\n",
      "[12, 45, 78, 98]\n",
      "[12, 45, 78, 98, 100]\n"
     ]
    }
   ],
   "source": [
    "lista1 = [12, 45, 78, 98]\n",
    "\n",
    "# copiar essa lista\n",
    "lista2 = lista1[:] # lista2 = lista1.copy()\n",
    "lista3 = lista1 # apenas dando 2 nomes a mesma lista, tudo que acontecer com lista1, vai alterar a lista 3\n",
    "\n",
    "# modificar a lista1\n",
    "lista1.append(100)\n",
    "\n",
    "print(lista1)\n",
    "print(lista2)\n",
    "print(lista3)\n",
    "\n",
    "# Shallow Copy and Deep Copy"
   ]
  },
  {
   "cell_type": "markdown",
   "metadata": {},
   "source": [
    "Ordenar"
   ]
  },
  {
   "cell_type": "code",
   "execution_count": 29,
   "metadata": {},
   "outputs": [
    {
     "name": "stdout",
     "output_type": "stream",
     "text": [
      "[0, 1, 1, 2, 3, 5, 8, 13]\n"
     ]
    }
   ],
   "source": [
    "fibonacci = [8, 1, 0, 5, 13, 1, 3, 2]\n",
    "\n",
    "fibonacci.sort() # ordernar a lista e modifica\n",
    "\n",
    "print(fibonacci)"
   ]
  },
  {
   "cell_type": "code",
   "execution_count": 32,
   "metadata": {},
   "outputs": [
    {
     "name": "stdout",
     "output_type": "stream",
     "text": [
      "[0, 1, 1, 2, 3, 5, 8, 13]\n",
      "[0, 1, 1, 2, 3, 5, 8, 13]\n"
     ]
    }
   ],
   "source": [
    "fibonacci = [8, 1, 0, 5, 13, 1, 3, 2]\n",
    "\n",
    "\n",
    "print(sorted(fibonacci)) # ordernar a lista mas não modifica\n",
    "\n",
    "new_var = sorted(fibonacci)\n",
    "print(new_var)"
   ]
  },
  {
   "cell_type": "code",
   "execution_count": 33,
   "metadata": {},
   "outputs": [
    {
     "name": "stdout",
     "output_type": "stream",
     "text": [
      "[13, 8, 5, 3, 2, 1, 1, 0]\n"
     ]
    }
   ],
   "source": [
    "# Ordenar de forma reversa\n",
    "\n",
    "fibonacci = [8, 1, 0, 5, 13, 1, 3, 2]\n",
    "\n",
    "fibonacci.sort(reverse = True) # ordernar a lista\n",
    "\n",
    "print(fibonacci)"
   ]
  },
  {
   "cell_type": "code",
   "execution_count": 34,
   "metadata": {},
   "outputs": [
    {
     "name": "stdout",
     "output_type": "stream",
     "text": [
      "[2, 3, 1, 13, 5, 0, 1, 8]\n"
     ]
    }
   ],
   "source": [
    "# outra forma de ordernar de forma reversa\n",
    "\n",
    "fibonacci = [8, 1, 0, 5, 13, 1, 3, 2]\n",
    "\n",
    "fibonacci.reverse() # escrevendo  a lista de forma reversa (de trás para frente), mudando a posição\n",
    "\n",
    "print(fibonacci)"
   ]
  },
  {
   "cell_type": "code",
   "execution_count": 35,
   "metadata": {},
   "outputs": [
    {
     "data": {
      "text/plain": [
       "4"
      ]
     },
     "execution_count": 35,
     "metadata": {},
     "output_type": "execute_result"
    }
   ],
   "source": [
    "# Buscar um elemento\n",
    "\n",
    "pi = [3, 1, 4, 1, 5, 9, 2, 6, 5]\n",
    "\n",
    "posicao = pi.index(5) # quero saber o índice do valor 5. A função index dá o índice do valor 5. \n",
    "# Dá a posição do primeiro valor encontrado\n",
    "\n",
    "posicao"
   ]
  },
  {
   "cell_type": "code",
   "execution_count": 36,
   "metadata": {},
   "outputs": [
    {
     "name": "stdout",
     "output_type": "stream",
     "text": [
      "9 9 1\n"
     ]
    }
   ],
   "source": [
    "pi = [3, 1, 4, 1, 5, 9, 2, 6, 5]\n",
    "\n",
    "\n",
    "# para saber o tamanho da lista\n",
    "tamanho = len(pi)\n",
    "maior = max(pi) # funcao max me dá o maior valor da lista\n",
    "menor = min(pi) # funcao min me dá o menor valor da lista\n",
    "\n",
    "print(tamanho, maior, menor)"
   ]
  },
  {
   "cell_type": "markdown",
   "metadata": {},
   "source": [
    "lista.sort() -> método (modifica a lista)\n",
    "\n",
    "sorted(lista) -> função (não modifica a lista)"
   ]
  },
  {
   "cell_type": "code",
   "execution_count": 37,
   "metadata": {},
   "outputs": [
    {
     "data": {
      "text/plain": [
       "2"
      ]
     },
     "execution_count": 37,
     "metadata": {},
     "output_type": "execute_result"
    }
   ],
   "source": [
    "pi = [3, 1, 4, 1, 5, 9, 2, 6, 5]\n",
    "\n",
    "pi.count(5) # contar quantas vezes o elemento aparece na lista"
   ]
  },
  {
   "cell_type": "code",
   "execution_count": 38,
   "metadata": {},
   "outputs": [
    {
     "name": "stdout",
     "output_type": "stream",
     "text": [
      "[3, 1, 4, 1, 5, 9, 2, 6, 5, 0]\n"
     ]
    }
   ],
   "source": [
    "# Extend e append\n",
    "\n",
    "\n",
    "pi = [3, 1, 4, 1, 5, 9, 2, 6, 5]\n",
    "\n",
    "pi.append(0) # adiciona um elemento ao final da lista\n",
    "\n",
    "print(pi) "
   ]
  },
  {
   "cell_type": "code",
   "execution_count": 39,
   "metadata": {},
   "outputs": [],
   "source": [
    "a = [1, 2]\n",
    "\n",
    "pi.append(a) # adiciona o elemento (objeto) na última posição"
   ]
  },
  {
   "cell_type": "code",
   "execution_count": 40,
   "metadata": {},
   "outputs": [
    {
     "data": {
      "text/plain": [
       "[3, 1, 4, 1, 5, 9, 2, 6, 5, 0, [1, 2]]"
      ]
     },
     "execution_count": 40,
     "metadata": {},
     "output_type": "execute_result"
    }
   ],
   "source": [
    "pi"
   ]
  },
  {
   "cell_type": "code",
   "execution_count": 42,
   "metadata": {},
   "outputs": [
    {
     "name": "stdout",
     "output_type": "stream",
     "text": [
      "[3, 1, 4, 1, 5, 9, 2, 6, 5, 1, 2]\n"
     ]
    }
   ],
   "source": [
    "pi = [3, 1, 4, 1, 5, 9, 2, 6, 5]\n",
    "\n",
    "pi.extend(a) # adicionou os elementos da lista na lista anterior\n",
    "\n",
    "print(pi)"
   ]
  },
  {
   "cell_type": "code",
   "execution_count": 44,
   "metadata": {},
   "outputs": [
    {
     "name": "stdout",
     "output_type": "stream",
     "text": [
      "[3, 1, 4, 1, 5, 9, 2, 6, 5, 1, 2]\n"
     ]
    },
    {
     "ename": "NameError",
     "evalue": "name 'pi' is not defined",
     "output_type": "error",
     "traceback": [
      "\u001b[1;31m---------------------------------------------------------------------------\u001b[0m",
      "\u001b[1;31mNameError\u001b[0m                                 Traceback (most recent call last)",
      "\u001b[1;32m~\\AppData\\Local\\Temp/ipykernel_16848/1864509150.py\u001b[0m in \u001b[0;36m<module>\u001b[1;34m\u001b[0m\n\u001b[0;32m      5\u001b[0m \u001b[1;32mdel\u001b[0m \u001b[0mpi\u001b[0m\u001b[1;33m\u001b[0m\u001b[1;33m\u001b[0m\u001b[0m\n\u001b[0;32m      6\u001b[0m \u001b[1;33m\u001b[0m\u001b[0m\n\u001b[1;32m----> 7\u001b[1;33m \u001b[0mprint\u001b[0m\u001b[1;33m(\u001b[0m\u001b[0mpi\u001b[0m\u001b[1;33m)\u001b[0m\u001b[1;33m\u001b[0m\u001b[1;33m\u001b[0m\u001b[0m\n\u001b[0m",
      "\u001b[1;31mNameError\u001b[0m: name 'pi' is not defined"
     ]
    }
   ],
   "source": [
    "# remover uma variável\n",
    "\n",
    "print(pi)\n",
    "\n",
    "del pi\n",
    "\n",
    "print(pi)"
   ]
  },
  {
   "cell_type": "markdown",
   "metadata": {},
   "source": [
    "# Strings\n",
    "\n",
    "string = texto, literal  \n",
    "string é uma coleção de caracteres  \n",
    "strings são imutáveis"
   ]
  },
  {
   "cell_type": "markdown",
   "metadata": {},
   "source": [
    "https://pt.stackoverflow.com/questions/500210/se-strings-em-python-s%C3%A3o-imut%C3%A1veis-como-conseguimos-alter%C3%A1-la-com-o-m%C3%A9todo-repl"
   ]
  },
  {
   "cell_type": "code",
   "execution_count": 49,
   "metadata": {},
   "outputs": [],
   "source": [
    "variavel1 = 'texto' # aspa simples\n",
    "variavel2 = \"palavra\" # aspas duplas\n",
    "variavel3 = \"Let's Code\""
   ]
  },
  {
   "cell_type": "markdown",
   "metadata": {},
   "source": [
    "Acessar uma string"
   ]
  },
  {
   "cell_type": "code",
   "execution_count": 53,
   "metadata": {},
   "outputs": [
    {
     "name": "stdout",
     "output_type": "stream",
     "text": [
      "L\n",
      "e\n",
      "t\n",
      "'\n",
      "s\n",
      " \n",
      "C\n",
      "o\n",
      "d\n",
      "e\n",
      " \n",
      "b\n",
      "y\n",
      " \n",
      "A\n",
      "d\n",
      "a\n"
     ]
    }
   ],
   "source": [
    "frase = \"Let's Code by Ada\"\n",
    "\n",
    "print(frase[0]) # acessa a partir de índices\n",
    "print(frase[1])\n",
    "print(frase[2])\n",
    "print(frase[3])\n",
    "print(frase[4])\n",
    "print(frase[5])\n",
    "print(frase[6])\n",
    "print(frase[7])\n",
    "print(frase[8])\n",
    "print(frase[9])\n",
    "print(frase[10])\n",
    "print(frase[11])\n",
    "print(frase[12])\n",
    "print(frase[13])\n",
    "print(frase[14])\n",
    "print(frase[15])\n",
    "print(frase[16])"
   ]
  },
  {
   "cell_type": "code",
   "execution_count": 55,
   "metadata": {},
   "outputs": [
    {
     "name": "stdout",
     "output_type": "stream",
     "text": [
      "Let's Code by Ada\n"
     ]
    },
    {
     "ename": "TypeError",
     "evalue": "'str' object does not support item assignment",
     "output_type": "error",
     "traceback": [
      "\u001b[1;31m---------------------------------------------------------------------------\u001b[0m",
      "\u001b[1;31mTypeError\u001b[0m                                 Traceback (most recent call last)",
      "\u001b[1;32m~\\AppData\\Local\\Temp/ipykernel_16848/925675246.py\u001b[0m in \u001b[0;36m<module>\u001b[1;34m\u001b[0m\n\u001b[0;32m      1\u001b[0m \u001b[0mprint\u001b[0m\u001b[1;33m(\u001b[0m\u001b[0mfrase\u001b[0m\u001b[1;33m)\u001b[0m\u001b[1;33m\u001b[0m\u001b[1;33m\u001b[0m\u001b[0m\n\u001b[0;32m      2\u001b[0m \u001b[1;33m\u001b[0m\u001b[0m\n\u001b[1;32m----> 3\u001b[1;33m \u001b[0mfrase\u001b[0m\u001b[1;33m[\u001b[0m\u001b[1;36m0\u001b[0m\u001b[1;33m]\u001b[0m \u001b[1;33m=\u001b[0m \u001b[1;34m'p'\u001b[0m\u001b[1;33m\u001b[0m\u001b[1;33m\u001b[0m\u001b[0m\n\u001b[0m",
      "\u001b[1;31mTypeError\u001b[0m: 'str' object does not support item assignment"
     ]
    }
   ],
   "source": [
    "print(frase)\n",
    "\n",
    "frase[0] = 'p'"
   ]
  },
  {
   "cell_type": "markdown",
   "metadata": {},
   "source": [
    "String é imutável"
   ]
  },
  {
   "cell_type": "code",
   "execution_count": 54,
   "metadata": {},
   "outputs": [
    {
     "name": "stdout",
     "output_type": "stream",
     "text": [
      "L\n",
      "e\n",
      "t\n",
      "'\n",
      "s\n",
      " \n",
      "C\n",
      "o\n",
      "d\n",
      "e\n",
      " \n",
      "b\n",
      "y\n",
      " \n",
      "A\n",
      "d\n",
      "a\n"
     ]
    }
   ],
   "source": [
    "for caracter in frase:\n",
    "    print(caracter)"
   ]
  },
  {
   "cell_type": "markdown",
   "metadata": {},
   "source": [
    "String -> posição(índice) e caracter(elemento)"
   ]
  },
  {
   "cell_type": "markdown",
   "metadata": {},
   "source": [
    "## Operações entre strings\n",
    "\n",
    "+ : concatenar (unir duas strings)"
   ]
  },
  {
   "cell_type": "code",
   "execution_count": 56,
   "metadata": {},
   "outputs": [
    {
     "name": "stdout",
     "output_type": "stream",
     "text": [
      "Let's Code by Adaqualquer coisa\n"
     ]
    }
   ],
   "source": [
    "frase1 = frase + 'qualquer coisa' # operador soma em string é concatenar (juntar)\n",
    "\n",
    "print(frase1)"
   ]
  },
  {
   "cell_type": "code",
   "execution_count": 57,
   "metadata": {},
   "outputs": [
    {
     "ename": "TypeError",
     "evalue": "can only concatenate str (not \"int\") to str",
     "output_type": "error",
     "traceback": [
      "\u001b[1;31m---------------------------------------------------------------------------\u001b[0m",
      "\u001b[1;31mTypeError\u001b[0m                                 Traceback (most recent call last)",
      "\u001b[1;32m~\\AppData\\Local\\Temp/ipykernel_16848/257137547.py\u001b[0m in \u001b[0;36m<module>\u001b[1;34m\u001b[0m\n\u001b[0;32m      1\u001b[0m \u001b[0mnumero\u001b[0m \u001b[1;33m=\u001b[0m \u001b[1;36m2\u001b[0m\u001b[1;33m\u001b[0m\u001b[1;33m\u001b[0m\u001b[0m\n\u001b[0;32m      2\u001b[0m \u001b[1;33m\u001b[0m\u001b[0m\n\u001b[1;32m----> 3\u001b[1;33m \u001b[0mfrase\u001b[0m \u001b[1;33m+\u001b[0m \u001b[0mnumero\u001b[0m\u001b[1;33m\u001b[0m\u001b[1;33m\u001b[0m\u001b[0m\n\u001b[0m",
      "\u001b[1;31mTypeError\u001b[0m: can only concatenate str (not \"int\") to str"
     ]
    }
   ],
   "source": [
    "numero = 2\n",
    "\n",
    "frase + numero # SÓ CONCATENA STRING COM STRING"
   ]
  },
  {
   "cell_type": "code",
   "execution_count": 58,
   "metadata": {},
   "outputs": [
    {
     "data": {
      "text/plain": [
       "\"Let's Code by Ada2\""
      ]
     },
     "execution_count": 58,
     "metadata": {},
     "output_type": "execute_result"
    }
   ],
   "source": [
    "# alternativa\n",
    "\n",
    "frase + str(numero)"
   ]
  },
  {
   "cell_type": "code",
   "execution_count": 59,
   "metadata": {},
   "outputs": [
    {
     "data": {
      "text/plain": [
       "\"Let's Code by Ada 2 quantas strings eu quiser\""
      ]
     },
     "execution_count": 59,
     "metadata": {},
     "output_type": "execute_result"
    }
   ],
   "source": [
    "frase + \" \" + str(2) + \" \" + 'quantas strings eu quiser'"
   ]
  },
  {
   "cell_type": "code",
   "execution_count": 62,
   "metadata": {},
   "outputs": [
    {
     "name": "stdout",
     "output_type": "stream",
     "text": [
      "A minha idade é 22 anos e minha altura é 1.67 metros\n"
     ]
    }
   ],
   "source": [
    "idade = 22\n",
    "altura = 1.67\n",
    "\n",
    "nova_frase = 'A minha idade é ' + str(idade) + ' anos e minha altura é ' + str(altura) + ' metros'\n",
    "\n",
    "print(nova_frase)"
   ]
  },
  {
   "cell_type": "code",
   "execution_count": 64,
   "metadata": {},
   "outputs": [
    {
     "name": "stdout",
     "output_type": "stream",
     "text": [
      "A minha idade 22 e 1.67\n"
     ]
    }
   ],
   "source": [
    "#criando uma string comparando com a concatenação\n",
    "nova_frase2 = f'A minha idade {idade} e {altura}'\n",
    "\n",
    "print(nova_frase2)"
   ]
  },
  {
   "cell_type": "markdown",
   "metadata": {},
   "source": [
    "    * : repetir a string n vezes"
   ]
  },
  {
   "cell_type": "code",
   "execution_count": 65,
   "metadata": {},
   "outputs": [
    {
     "data": {
      "text/plain": [
       "'textotextotexto'"
      ]
     },
     "execution_count": 65,
     "metadata": {},
     "output_type": "execute_result"
    }
   ],
   "source": [
    "string1 = 'texto'\n",
    "\n",
    "string1 * 3"
   ]
  },
  {
   "cell_type": "code",
   "execution_count": 66,
   "metadata": {},
   "outputs": [
    {
     "data": {
      "text/plain": [
       "'00000000000000000000'"
      ]
     },
     "execution_count": 66,
     "metadata": {},
     "output_type": "execute_result"
    }
   ],
   "source": [
    "'0' * 20 # crindo uma string/texto com 20 zeros"
   ]
  },
  {
   "cell_type": "code",
   "execution_count": 70,
   "metadata": {},
   "outputs": [
    {
     "name": "stdout",
     "output_type": "stream",
     "text": [
      "100000000000000000000\n",
      "<class 'str'>\n"
     ]
    }
   ],
   "source": [
    "var1 = '1' + '0' * 20\n",
    "\n",
    "print(var1)\n",
    "print(type(var1))"
   ]
  },
  {
   "cell_type": "code",
   "execution_count": 71,
   "metadata": {},
   "outputs": [
    {
     "name": "stdout",
     "output_type": "stream",
     "text": [
      "100000000000000000000\n",
      "<class 'int'>\n"
     ]
    }
   ],
   "source": [
    "var1 = int(var1)\n",
    "print(var1)\n",
    "print(type(var1))"
   ]
  },
  {
   "cell_type": "markdown",
   "metadata": {},
   "source": [
    "copiando uma string através de concatenar"
   ]
  },
  {
   "cell_type": "markdown",
   "metadata": {},
   "source": [
    "```Python\n",
    "# Exemplo com lista\n",
    "soma = 0\n",
    "for numero in lista:\n",
    "    soma = soma + numero\n",
    "```"
   ]
  },
  {
   "cell_type": "code",
   "execution_count": 73,
   "metadata": {},
   "outputs": [
    {
     "name": "stdout",
     "output_type": "stream",
     "text": [
      "letra:  M\n",
      "string_final \n",
      "string_final M\n",
      "mais uma rodada\n",
      "\n",
      "letra:  u\n",
      "string_final M\n",
      "string_final Mu\n",
      "mais uma rodada\n",
      "\n",
      "letra:  n\n",
      "string_final Mu\n",
      "string_final Mun\n",
      "mais uma rodada\n",
      "\n",
      "letra:  d\n",
      "string_final Mun\n",
      "string_final Mund\n",
      "mais uma rodada\n",
      "\n",
      "letra:  o\n",
      "string_final Mund\n",
      "string_final Mundo\n",
      "mais uma rodada\n",
      "\n"
     ]
    }
   ],
   "source": [
    "# usando a mesma lógica\n",
    "\n",
    "string_inicial = 'Mundo'\n",
    "string_final = '' #iniciando uma variável com o valor string vazio (cria uma string vazia)\n",
    "\n",
    "for letra in string_inicial:\n",
    "    print('letra: ', letra)\n",
    "    print('string_final', string_final)\n",
    "    \n",
    "    string_final = string_final + letra\n",
    "    \n",
    "    print('string_final', string_final)\n",
    "    print('mais uma rodada\\n')\n",
    "\n",
    "# print(string_final)"
   ]
  },
  {
   "cell_type": "markdown",
   "metadata": {},
   "source": [
    "- Transformando uma string em lista"
   ]
  },
  {
   "cell_type": "code",
   "execution_count": 74,
   "metadata": {},
   "outputs": [
    {
     "name": "stdout",
     "output_type": "stream",
     "text": [
      "['t', 'e', 'x', 't', 'o']\n"
     ]
    }
   ],
   "source": [
    "frase = 'texto'\n",
    "\n",
    "lista_frase = list(frase) # transformando uma string em lista\n",
    "print(lista_frase)"
   ]
  },
  {
   "cell_type": "code",
   "execution_count": 75,
   "metadata": {},
   "outputs": [
    {
     "data": {
      "text/plain": [
       "'texto'"
      ]
     },
     "execution_count": 75,
     "metadata": {},
     "output_type": "execute_result"
    }
   ],
   "source": [
    "frase"
   ]
  },
  {
   "cell_type": "code",
   "execution_count": 76,
   "metadata": {},
   "outputs": [
    {
     "data": {
      "text/plain": [
       "['t', 'e', 'x', 't', 'o']"
      ]
     },
     "execution_count": 76,
     "metadata": {},
     "output_type": "execute_result"
    }
   ],
   "source": [
    "lista_frase"
   ]
  },
  {
   "cell_type": "code",
   "execution_count": 77,
   "metadata": {},
   "outputs": [
    {
     "name": "stdout",
     "output_type": "stream",
     "text": [
      "['T', 'e', 'x', 't', 'o']\n"
     ]
    }
   ],
   "source": [
    "# na lista consigo alterar a letra 't' por 'T'?\n",
    "lista_frase[0] = 'T'\n",
    "\n",
    "print(lista_frase)"
   ]
  },
  {
   "cell_type": "code",
   "execution_count": 78,
   "metadata": {},
   "outputs": [
    {
     "ename": "TypeError",
     "evalue": "'str' object does not support item assignment",
     "output_type": "error",
     "traceback": [
      "\u001b[1;31m---------------------------------------------------------------------------\u001b[0m",
      "\u001b[1;31mTypeError\u001b[0m                                 Traceback (most recent call last)",
      "\u001b[1;32m~\\AppData\\Local\\Temp/ipykernel_16848/1877951702.py\u001b[0m in \u001b[0;36m<module>\u001b[1;34m\u001b[0m\n\u001b[1;32m----> 1\u001b[1;33m \u001b[0mfrase\u001b[0m\u001b[1;33m[\u001b[0m\u001b[1;36m0\u001b[0m\u001b[1;33m]\u001b[0m \u001b[1;33m=\u001b[0m \u001b[1;34m'T'\u001b[0m \u001b[1;31m# Erro pq string é imutável\u001b[0m\u001b[1;33m\u001b[0m\u001b[1;33m\u001b[0m\u001b[0m\n\u001b[0m",
      "\u001b[1;31mTypeError\u001b[0m: 'str' object does not support item assignment"
     ]
    }
   ],
   "source": [
    "frase[0] = 'T' # Erro pq string é imutável"
   ]
  },
  {
   "cell_type": "code",
   "execution_count": 79,
   "metadata": {},
   "outputs": [
    {
     "data": {
      "text/plain": [
       "'texto'"
      ]
     },
     "execution_count": 79,
     "metadata": {},
     "output_type": "execute_result"
    }
   ],
   "source": [
    "frase"
   ]
  },
  {
   "cell_type": "markdown",
   "metadata": {},
   "source": [
    "- Símbolos especiais de strings"
   ]
  },
  {
   "cell_type": "code",
   "execution_count": 80,
   "metadata": {},
   "outputs": [
    {
     "name": "stdout",
     "output_type": "stream",
     "text": [
      "Olá \n",
      " mundo \n",
      " gigante\n"
     ]
    }
   ],
   "source": [
    "# quebra de linha: \\n\n",
    "\n",
    "print('Olá \\n mundo \\n gigante')"
   ]
  },
  {
   "cell_type": "code",
   "execution_count": 81,
   "metadata": {},
   "outputs": [
    {
     "name": "stdout",
     "output_type": "stream",
     "text": [
      "Olá \n",
      " mundo \n",
      " gigante\n"
     ]
    }
   ],
   "source": [
    "var2 = \"Olá \\n mundo \\n gigante\"\n",
    "\n",
    "print(var2)"
   ]
  },
  {
   "cell_type": "code",
   "execution_count": 82,
   "metadata": {},
   "outputs": [
    {
     "name": "stdout",
     "output_type": "stream",
     "text": [
      "Candidatos aprovados:\n",
      "\t Mario\n",
      "\t Peach\n",
      "\t Luigi\n",
      "Candidatos reprovados:\n",
      "\t Wario\n",
      "\t Bowser\n"
     ]
    }
   ],
   "source": [
    "# Tabulação: \\t\n",
    "\n",
    "aprovados = ['Mario', 'Peach', 'Luigi']\n",
    "reprovados = ['Wario', 'Bowser']\n",
    "\n",
    "print('Candidatos aprovados:')\n",
    "for nome in aprovados:\n",
    "    print('\\t', nome)\n",
    "\n",
    "print('Candidatos reprovados:')\n",
    "for nome in reprovados:\n",
    "    print('\\t', nome)"
   ]
  },
  {
   "cell_type": "code",
   "execution_count": 84,
   "metadata": {},
   "outputs": [
    {
     "name": "stdout",
     "output_type": "stream",
     "text": [
      "Utilizamos o \\n para quebrar linhas\n"
     ]
    }
   ],
   "source": [
    "print('Utilizamos o \\\\n para quebrar linhas') # adicionando barra"
   ]
  },
  {
   "cell_type": "code",
   "execution_count": 85,
   "metadata": {},
   "outputs": [
    {
     "name": "stdout",
     "output_type": "stream",
     "text": [
      "Imprimindo uma aspa simples (') dentro de uma string sem problemas\n",
      "Imprimindo uma aspa simples (\") dentro de uma string sem problemas\n"
     ]
    }
   ],
   "source": [
    "# aspas \\' \\\"\n",
    "\n",
    "print('Imprimindo uma aspa simples (\\') dentro de uma string sem problemas')\n",
    "print(\"Imprimindo uma aspa simples (\\\") dentro de uma string sem problemas\")"
   ]
  },
  {
   "cell_type": "code",
   "execution_count": null,
   "metadata": {},
   "outputs": [],
   "source": []
  }
 ],
 "metadata": {
  "kernelspec": {
   "display_name": "Python 3.10.7 64-bit",
   "language": "python",
   "name": "python3"
  },
  "language_info": {
   "codemirror_mode": {
    "name": "ipython",
    "version": 3
   },
   "file_extension": ".py",
   "mimetype": "text/x-python",
   "name": "python",
   "nbconvert_exporter": "python",
   "pygments_lexer": "ipython3",
   "version": "3.10.7"
  },
  "orig_nbformat": 4,
  "vscode": {
   "interpreter": {
    "hash": "8e422274af7bea950b99ce5931db79f336f723780200fdaaaa6fd2c62e737577"
   }
  }
 },
 "nbformat": 4,
 "nbformat_minor": 2
}
