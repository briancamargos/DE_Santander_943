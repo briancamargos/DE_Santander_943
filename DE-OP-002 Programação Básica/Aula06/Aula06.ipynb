{
 "cells": [
  {
   "cell_type": "markdown",
   "metadata": {},
   "source": [
    "# Pacotes de Terceiros\n",
    "\n",
    "- Repositório oficial de pacotes: PyPI (Python Package Index): https://pypi.org/\n",
    "- Repositório anaconda.org: https://anaconda.org/anaconda/repov (https://conda-forge.org/)\n",
    "\n",
    "\n",
    "- Gerenciados de Pacotes: pip\n",
    "- Gerenciador de Pacotes e ambiente anaconda: conda\n",
    "\n",
    "\n",
    "Qual a diferença? https://stackoverflow.com/a/73245091\n",
    "\n",
    "Vamos detalhar a instalação via pip mas gerenciador conda é bem utilizado também."
   ]
  },
  {
   "cell_type": "markdown",
   "metadata": {},
   "source": [
    "Instalação do pip\n",
    "\n",
    "```python\n",
    "pip -V # saber se tem o pip instalado\n",
    "\n",
    "python -m ensurepip --upgrade # instalar ou atualizar\n",
    "\n",
    "pip install `nome_do_pacote` # instalar um pacote\n",
    "\n",
    "```"
   ]
  },
  {
   "cell_type": "code",
   "execution_count": 1,
   "metadata": {},
   "outputs": [
    {
     "name": "stdout",
     "output_type": "stream",
     "text": [
      "The factorial of 5 is 120\n"
     ]
    }
   ],
   "source": [
    "# Calcular o fatorial de 5 => 5*4*3*2*1\n",
    "\n",
    "# Python program to find the factorial of a number provided by the user.\n",
    "\n",
    "# change the value for a different result\n",
    "num = 5\n",
    "\n",
    "# To take input from the user\n",
    "#num = int(input(\"Enter a number: \"))\n",
    "\n",
    "factorial = 1\n",
    "\n",
    "# check if the number is negative, positive or zero\n",
    "if num < 0:\n",
    "   print(\"Sorry, factorial does not exist for negative numbers\")\n",
    "elif num == 0:\n",
    "   print(\"The factorial of 0 is 1\")\n",
    "else:\n",
    "   for i in range(1,num + 1):\n",
    "       factorial = factorial*i\n",
    "   print(\"The factorial of\",num,\"is\",factorial)\n"
   ]
  },
  {
   "cell_type": "markdown",
   "metadata": {},
   "source": [
    "Módulo que possui várias funções matemáticas:\n",
    "\n",
    "https://docs.python.org/3/library/math.html\n",
    "\n",
    "Como usar?\n",
    "\n",
    "```python\n",
    "import math\n",
    "\n",
    "```"
   ]
  },
  {
   "cell_type": "code",
   "execution_count": 2,
   "metadata": {},
   "outputs": [],
   "source": [
    "import math #importando a biblioteca / módulo  ->>>> from math import *"
   ]
  },
  {
   "cell_type": "code",
   "execution_count": 3,
   "metadata": {},
   "outputs": [
    {
     "data": {
      "text/plain": [
       "120"
      ]
     },
     "execution_count": 3,
     "metadata": {},
     "output_type": "execute_result"
    }
   ],
   "source": [
    "math.factorial(5)"
   ]
  },
  {
   "cell_type": "code",
   "execution_count": 4,
   "metadata": {},
   "outputs": [
    {
     "data": {
      "text/plain": [
       "120"
      ]
     },
     "execution_count": 4,
     "metadata": {},
     "output_type": "execute_result"
    }
   ],
   "source": [
    "# Alternativa na importação da biblioteca\n",
    "from math import factorial\n",
    "\n",
    "factorial(5)\n"
   ]
  },
  {
   "cell_type": "code",
   "execution_count": 5,
   "metadata": {},
   "outputs": [],
   "source": [
    "# Alternativa\n",
    "\n",
    "from math import *"
   ]
  },
  {
   "cell_type": "code",
   "execution_count": 6,
   "metadata": {},
   "outputs": [
    {
     "name": "stdout",
     "output_type": "stream",
     "text": [
      "120\n",
      "4.0\n"
     ]
    }
   ],
   "source": [
    "# alternativa\n",
    "\n",
    "from math import factorial, sqrt\n",
    "\n",
    "print(factorial(5))\n",
    "\n",
    "print(sqrt(16))"
   ]
  },
  {
   "cell_type": "markdown",
   "metadata": {},
   "source": [
    "Testando no exemplo1.py\n",
    "\n",
    "Criar arquivo exemplo1.py com o código:\n",
    "\n",
    "```python\n",
    "from math import factorial\n",
    "\n",
    "print(factorial(5))\n",
    "```\n",
    "\n",
    "Abrir terminal. Ir até onde o arquivo está (ou clicar com botão direito e \"Abrir no terminal integrado\"). Digitar: `python exemplo1.py`\n",
    "\n",
    "Vamos testar o pacote br_nome_gen\n",
    "\n",
    "```python\n",
    "from br_nome_gen import pessoa_random\n",
    "p = pessoa_random()\n",
    "print(f\"{'Homem' if p.masc else 'Mulher'}: {p.nome}\")\n",
    "```\n"
   ]
  },
  {
   "cell_type": "code",
   "execution_count": 8,
   "metadata": {},
   "outputs": [
    {
     "name": "stdout",
     "output_type": "stream",
     "text": [
      "Homem: Wagner Maciel da Silva\n"
     ]
    }
   ],
   "source": [
    "from br_nome_gen import pessoa_random\n",
    "\n",
    "p = pessoa_random()\n",
    "print(f\"{'Homem' if p.masc else 'Mulher'}: {p.nome}\")"
   ]
  },
  {
   "cell_type": "code",
   "execution_count": null,
   "metadata": {},
   "outputs": [],
   "source": []
  },
  {
   "cell_type": "code",
   "execution_count": null,
   "metadata": {},
   "outputs": [],
   "source": []
  },
  {
   "cell_type": "code",
   "execution_count": null,
   "metadata": {},
   "outputs": [],
   "source": []
  }
 ],
 "metadata": {
  "kernelspec": {
   "display_name": "Python 3.9.7 ('base')",
   "language": "python",
   "name": "python3"
  },
  "language_info": {
   "codemirror_mode": {
    "name": "ipython",
    "version": 3
   },
   "file_extension": ".py",
   "mimetype": "text/x-python",
   "name": "python",
   "nbconvert_exporter": "python",
   "pygments_lexer": "ipython3",
   "version": "3.9.7"
  },
  "orig_nbformat": 4,
  "vscode": {
   "interpreter": {
    "hash": "5c66de18c091297d67c9a295278ca9503b5163a383fa85591c3cdb6daec33020"
   }
  }
 },
 "nbformat": 4,
 "nbformat_minor": 2
}
