{
 "cells": [
  {
   "cell_type": "markdown",
   "metadata": {},
   "source": [
    "# Desafios\n"
   ]
  },
  {
   "cell_type": "markdown",
   "metadata": {},
   "source": [
    "1. \n",
    "Peça para o usuário digitar uma velocidade inicial (em m/s), uma posição inicial (em m) e um instante de tempo (em s) e imprima a posição de um projétil nesse instante de tempo.  \n",
    "Dica: use a fórmula matemática:\n",
    "\n",
    "    y(t) = y0 + v0*t + 0.5 * g.t**2\n",
    "    \n",
    "Onde, g é a aceleração da gravidade (-10m/s²), y(t) é a posição final, y(0) é a posição inicial, v(0) é a velocidade inicial e t é o instante de tempo."
   ]
  },
  {
   "cell_type": "code",
   "execution_count": 2,
   "metadata": {},
   "outputs": [
    {
     "name": "stdout",
     "output_type": "stream",
     "text": [
      "A posição do projétil em 10.0 s é -440.0 m\n"
     ]
    }
   ],
   "source": [
    "y0 =  float(input('Digite a posição inicial (em m) : '))\n",
    "v0 = float(input('Digite a velocidade inicial (em m/s) : '))\n",
    "t = float(input('Digite um instante (em s:) '))\n",
    "\n",
    "g = -10\n",
    "\n",
    "y = y0 + v0 * t + 0.5 * g * t**2\n",
    "\n",
    "print(f'A posição do projétil em {t} s é {y} m')"
   ]
  },
  {
   "cell_type": "markdown",
   "metadata": {},
   "source": [
    "2. Faça um programa que informe a data e a hora para o usuário. Para isso use a função datetime.now() do módulo datetime.\n",
    "\n",
    "\n",
    "https://docs.python.org/pt-br/3/library/datetime.html"
   ]
  },
  {
   "cell_type": "code",
   "execution_count": 9,
   "metadata": {},
   "outputs": [
    {
     "name": "stdout",
     "output_type": "stream",
     "text": [
      "2022-11-18 21:51:24.373412\n"
     ]
    },
    {
     "data": {
      "text/plain": [
       "datetime.datetime(2022, 11, 18, 21, 51, 24, 373412)"
      ]
     },
     "execution_count": 9,
     "metadata": {},
     "output_type": "execute_result"
    }
   ],
   "source": [
    "from datetime import datetime # importando um módulo que já tem a função para informar a data e hora\n",
    "\n",
    "var_agora = datetime.now()\n",
    "\n",
    "print(var_agora) # formata direitinho para a saída da variável\n",
    "\n",
    "var_agora\n"
   ]
  },
  {
   "cell_type": "code",
   "execution_count": 10,
   "metadata": {},
   "outputs": [
    {
     "name": "stdout",
     "output_type": "stream",
     "text": [
      "2022\n",
      "11\n",
      "18\n",
      "21\n",
      "51\n",
      "24\n"
     ]
    }
   ],
   "source": [
    "# separar cada pedaço que precisamos (extrair parte da data)\n",
    "\n",
    "ano = var_agora.year\n",
    "mes = var_agora.month\n",
    "dia = var_agora.day\n",
    "hora = var_agora.hour\n",
    "minuto = var_agora.minute\n",
    "segundo = var_agora.second\n",
    "\n",
    "\n",
    "print(ano)\n",
    "print(mes)\n",
    "print(dia)\n",
    "print(hora)\n",
    "print(minuto)\n",
    "print(segundo)\n"
   ]
  },
  {
   "cell_type": "code",
   "execution_count": 11,
   "metadata": {},
   "outputs": [
    {
     "name": "stdout",
     "output_type": "stream",
     "text": [
      "Data: 18/11/2022 \n",
      " Horário: 21:51:24 \n",
      " Tenha uma execelente noite!\n"
     ]
    }
   ],
   "source": [
    "# Imprimir o resultado\n",
    "\n",
    "print(f'Data: {dia}/{mes}/{ano} \\n Horário: {hora}:{minuto}:{segundo} \\n Tenha uma execelente noite!')"
   ]
  },
  {
   "cell_type": "code",
   "execution_count": 12,
   "metadata": {},
   "outputs": [
    {
     "name": "stdout",
     "output_type": "stream",
     "text": [
      "18/11/2022 21:56:51\n"
     ]
    }
   ],
   "source": [
    "# Outra forma\n",
    "\n",
    "agora = datetime.now()\n",
    "formato = \"%d/%m/%Y %H:%M:%S\" # Definimos um formato \n",
    "agora_formatado = datetime.strftime(agora,formato) # Usamos a função strftime(), que formata automaticamente o texto\n",
    "print(agora_formatado)"
   ]
  },
  {
   "cell_type": "code",
   "execution_count": 13,
   "metadata": {},
   "outputs": [
    {
     "name": "stdout",
     "output_type": "stream",
     "text": [
      "18/Nov/2022 21:57:24\n"
     ]
    }
   ],
   "source": [
    "agora = datetime.now()\n",
    "formato = \"%d/%b/%Y %H:%M:%S\" # Definimos um formato \n",
    "agora_formatado = datetime.strftime(agora,formato) # Usamos a função strftime(), que formata automaticamente o texto\n",
    "print(agora_formatado)"
   ]
  },
  {
   "cell_type": "code",
   "execution_count": 14,
   "metadata": {},
   "outputs": [
    {
     "name": "stdout",
     "output_type": "stream",
     "text": [
      "18/November/2022 21:57:42\n"
     ]
    }
   ],
   "source": [
    "agora = datetime.now()\n",
    "formato = \"%d/%B/%Y %H:%M:%S\" # Definimos um formato \n",
    "agora_formatado = datetime.strftime(agora,formato) # Usamos a função strftime(), que formata automaticamente o texto\n",
    "print(agora_formatado)"
   ]
  },
  {
   "cell_type": "code",
   "execution_count": null,
   "metadata": {},
   "outputs": [],
   "source": []
  }
 ],
 "metadata": {
  "kernelspec": {
   "display_name": "Python 3.9.7 ('base')",
   "language": "python",
   "name": "python3"
  },
  "language_info": {
   "codemirror_mode": {
    "name": "ipython",
    "version": 3
   },
   "file_extension": ".py",
   "mimetype": "text/x-python",
   "name": "python",
   "nbconvert_exporter": "python",
   "pygments_lexer": "ipython3",
   "version": "3.9.7"
  },
  "orig_nbformat": 4,
  "vscode": {
   "interpreter": {
    "hash": "5c66de18c091297d67c9a295278ca9503b5163a383fa85591c3cdb6daec33020"
   }
  }
 },
 "nbformat": 4,
 "nbformat_minor": 2
}
