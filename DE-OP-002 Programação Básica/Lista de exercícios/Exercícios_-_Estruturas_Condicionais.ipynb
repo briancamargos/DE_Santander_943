{
 "cells": [
  {
   "cell_type": "markdown",
   "metadata": {},
   "source": [
    "## Estruturas Condicionais ##"
   ]
  },
  {
   "cell_type": "markdown",
   "metadata": {},
   "source": [
    "##### 1.  Faça um programa que peça a idade do usuário e imprima se ele é maior ou menor de 18 anos. "
   ]
  },
  {
   "cell_type": "markdown",
   "metadata": {},
   "source": [
    "##### 2.  Faça um programa que peça um número e mostre se ele é positivo ou negativo. "
   ]
  },
  {
   "cell_type": "markdown",
   "metadata": {},
   "source": [
    "##### 3.  Faça um programa que dado um número digitado, mostre se ele é Par ou Ímpar. "
   ]
  },
  {
   "cell_type": "markdown",
   "metadata": {},
   "source": [
    "##### 4.  Faça um programa que peça dois números e mostre o maior deles. "
   ]
  },
  {
   "cell_type": "markdown",
   "metadata": {},
   "source": [
    "##### 5.  Faça um programa que leia a validade das informações:  \n",
    "a.  Idade: entre 0 e 150;  \n",
    "b.  Salário: maior que 0;  \n",
    "c.  Sexo: M, F ou Outro;  \n",
    "O  programa  deve  imprimir  uma  mensagem  de  erro  para  cada \n",
    "informação inválida.  \n"
   ]
  },
  {
   "cell_type": "markdown",
   "metadata": {},
   "source": [
    "##### 6.  Escreva um programa que peça a nota de 3 provas de um aluno e verifique se ele passou o não de ano. \n",
    "Obs.: O aluno irá passar de ano se sua média for maior que 6.  \n"
   ]
  },
  {
   "cell_type": "markdown",
   "metadata": {},
   "source": [
    "##### 7.  Faça um programa que mostre uma questão de múltipla escolha com 5 opções (letras a, b, c, d, e e). Sabendo a resposta certa, o programa deve receber a opção do usuário e informar a letra que o usuário marcou e se a resposta está certa ou errada.  "
   ]
  },
  {
   "cell_type": "markdown",
   "metadata": {},
   "source": [
    "##### 8.  Vamos fazer um programa para verificar quem é o assassino de um crime.  Para  descobrir  o  assassino,  a  polícia  faz  um  pequeno questionário com 5 perguntas onde a resposta só pode ser sim ou não:  \n",
    "a.  Mora perto da vítima?  \n",
    "b.  Já trabalhou com a vítima? \n",
    "c.  Telefonou para a vítima?  \n",
    "d.  Esteve no local do crime? \n",
    "e.  Devia para a vítima?   \n",
    "Cada resposta sim dá um ponto para o suspeito. A polícia considera \n",
    "que os suspeitos com 5 pontos são os assassinos, com 4 a 3 pontos são \n",
    "cúmplices  e  2  pontos  são  apenas  suspeitos,  necessitando  outras \n",
    "investigações. Valores abaixo de 1 são liberados. "
   ]
  },
  {
   "cell_type": "markdown",
   "metadata": {},
   "source": [
    "##### 9.  Um produto vai sofrer aumento de acordo com a Tabela 1 abaixo. Faça um programa que peça para o usuário digitar o valor do produto de acordo com o preço antigo e escreva uma das mensagens da Tabela 2, de acordo com o preço reajustado: \n",
    "\n"
   ]
  },
  {
   "cell_type": "markdown",
   "metadata": {},
   "source": [
    "# Desafios"
   ]
  },
  {
   "cell_type": "markdown",
   "metadata": {},
   "source": [
    "##### 1.  Faça um programa que leia 3 números e informe o maior deles."
   ]
  },
  {
   "cell_type": "code",
   "execution_count": 2,
   "metadata": {},
   "outputs": [
    {
     "name": "stdout",
     "output_type": "stream",
     "text": [
      "O maior é 3.0 \n"
     ]
    }
   ],
   "source": [
    "numero1 = float(input(\"digite numero 1\"))\n",
    "numero2 = float(input(\"digite numero 2\"))\n",
    "numero3 = float(input(\"digite numero 3\"))\n",
    "lista = [ numero1, numero2, numero3 ]\n",
    "Maior = 0\n",
    "for numero in lista:\n",
    "    if numero > Maior:\n",
    "        Maior = numero\n",
    "print(f\"O maior é {numero} \")"
   ]
  },
  {
   "cell_type": "markdown",
   "metadata": {},
   "source": [
    "##### 2.   Faça  o  mesmo  programa  do  exercício  anterior,  porém  com  4 números. "
   ]
  },
  {
   "cell_type": "code",
   "execution_count": 4,
   "metadata": {},
   "outputs": [
    {
     "name": "stdout",
     "output_type": "stream",
     "text": [
      "O maior é 4.0 \n"
     ]
    }
   ],
   "source": [
    "numero1 = float(input(\"digite numero 1\"))\n",
    "numero2 = float(input(\"digite numero 2\"))\n",
    "numero3 = float(input(\"digite numero 3\"))\n",
    "numero4 = float(input(\"digite numero 4\"))\n",
    "lista = [ numero1, numero2, numero3, numero4 ]\n",
    "Maior = 0\n",
    "for numero in lista:\n",
    "    if numero > Maior:\n",
    "        Maior = numero\n",
    "print(f\"O maior é {numero} \")"
   ]
  },
  {
   "cell_type": "markdown",
   "metadata": {},
   "source": [
    "##### 3.  Um hospital quer fazer o diagnóstico de gripe ou dengue a partir de um questionário de sintomas, tendo as perguntas abaixo, faça um programa que faça o diagnóstico deste hospital: \n",
    "a.  Sente dor no corpo? \n",
    "\n",
    "b.  Você tem febre?  \n",
    "\n",
    "c.  Você tem tosse? \n",
    "\n",
    "d.  Está com congestão nasal?  \n",
    "\n",
    "e.  Tem manchas pelo corpo? \n",
    "\n",
    "Para o diagnóstico ele tem a seguinte tabela: "
   ]
  },
  {
   "cell_type": "markdown",
   "metadata": {},
   "source": [
    "#####\n",
    " A    B    C    D    E       Resultado \n",
    "\n",
    "Sim  Sim  Não  Não  Sim      Dengue \n",
    "\n",
    "Sim  Sim  Sim  Sim  Não      Gripe \n",
    "\n",
    "Não  Sim  Sim  Sim  Não      Gripe \n",
    "\n",
    "Sim  Sim  Sim  Sim  Não       Gripe \n",
    "\n",
    "Sim  Não  Não  Não  Não       Sem Doenças \n",
    "\n",
    "Não  Não  Não  Não  Não       Sem Doenças "
   ]
  },
  {
   "cell_type": "code",
   "execution_count": 8,
   "metadata": {},
   "outputs": [
    {
     "name": "stdout",
     "output_type": "stream",
     "text": [
      "Responda S / N\n",
      "diagnostico inconclusivo\n"
     ]
    }
   ],
   "source": [
    "print('Responda S / N')\n",
    "perguntaA = input('Sente dor no corpo?')\n",
    "perguntaB = input('Você tem febre?')\n",
    "perguntaC = input('Você tem tosse?')\n",
    "perguntaD = input('Está com congestão nasal?')\n",
    "perguntaE = input('Tem manchas pelo corpo?')\n",
    "\n",
    "if perguntaA == 'S' and perguntaB == 'S' and perguntaC == 'N' and perguntaD == 'N' and perguntaE == 'S':\n",
    "    print('O diagnostico é dengue')\n",
    "elif perguntaB == 'S' and perguntaC == 'S' and perguntaD == 'S' and perguntaE == 'N':\n",
    "    print('O diagnostico é gripe')\n",
    "elif perguntaB == 'N' and perguntaC == 'N' and perguntaD == 'N' and perguntaE == 'N':\n",
    "    print('O diagnostico é sem doença')\n",
    "else:\n",
    "    print('diagnostico inconclusivo')"
   ]
  }
 ],
 "metadata": {
  "kernelspec": {
   "display_name": "Python 3.10.7 64-bit",
   "language": "python",
   "name": "python3"
  },
  "language_info": {
   "codemirror_mode": {
    "name": "ipython",
    "version": 3
   },
   "file_extension": ".py",
   "mimetype": "text/x-python",
   "name": "python",
   "nbconvert_exporter": "python",
   "pygments_lexer": "ipython3",
   "version": "3.10.7"
  },
  "orig_nbformat": 4,
  "vscode": {
   "interpreter": {
    "hash": "8e422274af7bea950b99ce5931db79f336f723780200fdaaaa6fd2c62e737577"
   }
  }
 },
 "nbformat": 4,
 "nbformat_minor": 2
}
