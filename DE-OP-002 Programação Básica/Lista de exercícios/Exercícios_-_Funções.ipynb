{
 "cells": [
  {
   "cell_type": "markdown",
   "metadata": {},
   "source": [
    "######\n",
    "Funções \n",
    "1.  Faça uma função que recebe um número e imprime seu dobro. \n",
    "2.  Faça uma função que recebe o valor do raio de um círculo e retorna o \n",
    "valor do comprimento de sua circunferência: C = 2*pi*r.  \n",
    "3.  Faça uma função para cada operação matemática básica (soma, \n",
    "subtração, multiplicação e divisão). As funções devem receber dois \n",
    "números e retornar o resultado da operação. \n",
    "4.  Faça uma função que recebe um nome e imprime “olá, [nome]”. \n",
    "5.  Faça uma função que recebe um nome e um horário e imprime “Bom \n",
    "dia, [nome]”, caso seja antes de 12h, “Boa Tarde, [nome]”, caso seja \n",
    "entre 12h e 18h e “Boa noite, [nome]” se for após às 18h. \n",
    "6.  Faça uma função que recebe um número e retorna True se ele é par \n",
    "ou False, se ele é ímpar. \n",
    "7.  Faça uma função que sorteia 10 números aleatórios entre 0 e 100 e \n",
    "retorna o maior entre eles. \n",
    "8.  Faça uma função que recebe um número n de entrada, sorteia n \n",
    "números aleatórios entre 0 e 100 e retorna a média deles. \n",
    "9.  Faça uma função que recebe uma lista de palavras e retorna uma lista \n",
    "contendo as mesmas palavras da lista anterior, porém escritas em \n",
    "caixa alta. \n",
    "10. Faça uma função que recebe duas listas e retorna a soma item a item \n",
    "dessas listas. \n",
    "Exemplo: Se a função receber as listas [1,4,3] e [3,5,1], então a \n",
    "função deve retornar [1+3, 4+5, 3+1] = [4, 9, 4]. \n",
    "11. Faça uma função que receba duas listas e retorne o produto item a \n",
    "item dessas listas. \n",
    "Exemplo: Se a função receber as listas [1,4,3] e [3,5,1], então a \n",
    "função deve retornar [1x3, 4x5, 3x1] = [3, 20, 3]. \n",
    "12. Faça uma função que recebe um número x e uma lista numérica e \n",
    "retorna uma lista cujos elementos são os itens da lista de entrada \n",
    "multiplicado por x. \n",
    "Exemplo: se a função receber o número 5 e a lista [3,5,1], então a \n",
    "função deve retornar [5x3, 5x5, 5x1] = [15, 25, 5]. \n",
    "13. Faça uma função que recebe uma lista de números e retorna a soma \n",
    "dos elementos dessa lista. \n",
    "14. Faça uma função que recebe uma lista de números e retorna a média \n",
    "aritmética dos elementos dessa lista. \n",
    " \n",
    "Desafio \n",
    "1.  Faça uma função que receba um número e calcule seu fatorial. \n",
    "2.  Super Desafio! - Repita o exercício anterior usando recursão, ou seja, \n",
    "uma função que chame ela mesma, lembrando que 3! = 3*2!, que 2! = \n",
    "2*1!, que 1! = 1*0! e que 0! = 1. \n",
    "3.  Faça uma função que recebe duas entradas: um input dado pelo \n",
    "usuário e um string que informa o tipo de dado (\"idade\", \"salário\" ou \n",
    "\"sexo\"), e verifica se os dados digitados foram válidos, usando os \n",
    "seguintes critérios: \n",
    "a.  Idade: entre 0 e 150;  \n",
    "b.  Salário: maior que 0;  \n",
    "c.  Sexo: M, F ou Outro. \n",
    " \n",
    "4.  A sequência Fibonacci é a sequência cujos dois primeiros termos são \n",
    "1 e os demais são obtidos através da soma de seus dois antecessores, \n",
    "isso é: \n",
    "a.  Fibonacci(1) = 1 e Fibonacci(2) = 2; \n",
    "b.  dado qualquer número n >= 3, Fibonacci(n) = Fibonacci(n-1) + \n",
    "Fibonacci(n-2) \n",
    "Assim, os 10 primeiros termos da sequência Fibonacci são: \n",
    "  1, 1, 2, 3, 5, 8, 13, 21, 34, 55... \n",
    "Faça uma função que receba um número n e calcule o termo de \n",
    "número n da sequência Fibonacci. \n",
    "5.  Super Desafio! Refaça o desafio 4 usando recursão. \n",
    "6.  Super  Desafio!  -  Faça  um  jogo  de  BlackJack  usando  funções:  o \n",
    "BlackJack, ou Vinte e Um, é um jogo em que os jogadores podem \n",
    "comprar cartas livremente, enquanto tiverem menos de 21 pontos. No \n",
    "nosso jogo, o Ás vale um ponto; as cartas de 2 a 10 valem o número de \n",
    "pontos que elas representam; e Valete, Dama e Rei valem 10 pontos \n",
    "cada. Ganha o jogador que tiver o maior número de pontos, desde que \n",
    "este seja menor ou igual a 21. Nosso jogo deve ter as seguintes \n",
    "funções:  \n",
    "a.  Função principal: a função que vamos chamar para iniciar o \n",
    "jogo.  Essa  função  não  irá  receber  nem  retornar  nenhuma \n",
    "variável.  Ela  deve  perguntar  o  número  de  jogadores \n",
    "participantes e o nome de cada um. Em seguida ela chama as \n",
    "outras funções do jogo. \n",
    "b.  Função para criar o baralho: essa função deve criar um baralho \n",
    "(uma lista) com as cartas do baralho. \n",
    "c.  Função para a jogada: essa função deve receber o nome do \n",
    "jogador que irá realizar a jogada e, caso ele ainda esteja ativo \n",
    "(tenha menos de 21 pontos e ainda não tenha desistido de \n",
    "comprar cartas) deve perguntar se ele quer comprar uma carta. \n",
    "Se ele responder que sim, a função deve chamar a próxima \n",
    "função para sortear uma carta e somar o valor retornado na \n",
    "pontuação do jogador; se ele responder que não, a função deve \n",
    "desativar o jogador para que ele não possa mais comprar cartas; \n",
    "Essa função só deve ser chamada enquanto houver jogadores \n",
    "ativos. \n",
    "d.  Função para o sorteio: essa função retira uma carta aleatória do \n",
    "baralho e retorna o número de pontos que essa carta vale. \n",
    "e.  Função  verificação:  verifica  e  indica  qual/quais \n",
    "jogador/jogadores tem o maior número de pontos, que seja \n",
    "menor ou igual a 21. \n",
    "7.  Super desafio! Faça um sistema de cadastro de clientes. Modele cada \n",
    "cliente como uma lista de três elementos: nome, CPF e e-mail.  \n",
    "a.  Faça uma função que peça o nome, o CPF e o e-mail da pessoa \n",
    "e retorne uma lista contendo esses elementos nessa ordem. \n",
    "b.  Os clientes cadastrados devem ser armazenados em uma lista \n",
    "(uma lista de listas, já que cada cliente será uma lista tal como \n",
    "produzido no item a). \n",
    "c.  Faça uma função que recebe a lista do item b) e um CPF e, se \n",
    "esse  cliente  estiver  na  lista  de  cadastro,  sua  função  deve \n",
    "devolver  a  lista  de  dados  desse  cliente;  caso  contrário,  sua \n",
    "função deve imprimir “não encontrado”. \n",
    "d.  Enquanto não for digitado 0, o seu programa deve continuar \n",
    "rodando. Se digitado 0, seu programa deve cadastrar um novo \n",
    "cliente;  se  digitado  1,  seu  programa  deve  pedir  um  CPF  e \n",
    "procurá-lo  na  lista  de  clientes  (item  c);  se  digitado  3,  seu \n",
    "programa deve imprimir todos os clientes cadastrados.  "
   ]
  },
  {
   "cell_type": "code",
   "execution_count": 1,
   "metadata": {},
   "outputs": [
    {
     "data": {
      "text/plain": [
       "2"
      ]
     },
     "execution_count": 1,
     "metadata": {},
     "output_type": "execute_result"
    }
   ],
   "source": [
    "# questão 1\n",
    "\n",
    "def dobradora(numero):\n",
    "    dobro = numero*2\n",
    "    return dobro\n",
    "\n",
    "dobradora(1)"
   ]
  },
  {
   "cell_type": "code",
   "execution_count": 4,
   "metadata": {},
   "outputs": [
    {
     "data": {
      "text/plain": [
       "6.2832"
      ]
     },
     "execution_count": 4,
     "metadata": {},
     "output_type": "execute_result"
    }
   ],
   "source": [
    "#questão 2\n",
    "\n",
    "def compCir (raio):\n",
    "    Comp = 2* 3.1416 * raio\n",
    "    return Comp\n",
    "\n",
    "compCir(1)"
   ]
  },
  {
   "cell_type": "code",
   "execution_count": 6,
   "metadata": {},
   "outputs": [
    {
     "name": "stdout",
     "output_type": "stream",
     "text": [
      "6\n",
      "2\n",
      "8\n",
      "2.0\n"
     ]
    }
   ],
   "source": [
    "#questão 3\n",
    "\n",
    "def soma(a,b):\n",
    "    resultado = a + b\n",
    "    return resultado\n",
    "def subtracao(a,b):\n",
    "    resultado = a - b\n",
    "    return resultado\n",
    "def multiplicacao(a,b):\n",
    "    resultado = a * b\n",
    "    return resultado\n",
    "def divisao(a,b):\n",
    "    resultado = a / b\n",
    "    return resultado\n",
    "\n",
    "x = 4\n",
    "y = 2\n",
    "print(soma(x,y))\n",
    "print(subtracao(x,y))\n",
    "print(multiplicacao(x,y))\n",
    "print(divisao(x,y))"
   ]
  },
  {
   "cell_type": "code",
   "execution_count": 8,
   "metadata": {},
   "outputs": [
    {
     "name": "stdout",
     "output_type": "stream",
     "text": [
      "Olá brian!\n"
     ]
    }
   ],
   "source": [
    "#questão 4\n",
    "\n",
    "def printa(nome):\n",
    "    print(f\"Olá {nome}!\")\n",
    "\n",
    "printa('brian')\n",
    "    "
   ]
  },
  {
   "cell_type": "code",
   "execution_count": null,
   "metadata": {},
   "outputs": [],
   "source": [
    "# questão 5 \n",
    "# Faça uma função que recebe um nome e um horário e imprime “Bom dia, [nome]”, caso seja antes de 12h, \n",
    "# “Boa Tarde, [nome]”, caso seja entre 12h e 18h e “Boa noite, [nome]” se for após às 18h. \n"
   ]
  },
  {
   "cell_type": "code",
   "execution_count": null,
   "metadata": {},
   "outputs": [],
   "source": [
    "#questão 6 \n",
    "# Faça uma função que recebe um número e retorna True se ele é par ou False, se ele é ímpar. \n",
    "\n"
   ]
  },
  {
   "cell_type": "code",
   "execution_count": null,
   "metadata": {},
   "outputs": [],
   "source": [
    "#questão 7 \n",
    "#  Faça uma função que sorteia 10 números aleatórios entre 0 e 100 e retorna o maior entre eles. \n"
   ]
  },
  {
   "cell_type": "code",
   "execution_count": null,
   "metadata": {},
   "outputs": [],
   "source": [
    "#questão 8 \n",
    "# Faça uma função que recebe um número n de entrada, sorteia n números aleatórios entre 0 e 100 e retorna a média deles.\n"
   ]
  },
  {
   "cell_type": "code",
   "execution_count": null,
   "metadata": {},
   "outputs": [],
   "source": [
    "#questão 9  \n",
    "# Faça uma função que recebe uma lista de palavras e retorna uma lista contendo as mesmas \n",
    "# palavras da lista anterior, porém escritas em caixa alta. \n",
    "\n"
   ]
  },
  {
   "cell_type": "code",
   "execution_count": null,
   "metadata": {},
   "outputs": [],
   "source": [
    "#questão 10 Faça uma função que recebe duas listas e retorna a soma item a item dessas listas. \n",
    "# Exemplo: Se a função receber as listas [1,4,3] e [3,5,1], \n",
    "# então a função deve retornar [1+3, 4+5, 3+1] = [4, 9, 4]. \n",
    "\n",
    "\n"
   ]
  },
  {
   "cell_type": "code",
   "execution_count": null,
   "metadata": {},
   "outputs": [],
   "source": [
    "#questão 11 Faça uma função que receba duas listas e retorne o produto item a item dessas listas. \n",
    "# Exemplo: Se a função receber as listas [1,4,3] e [3,5,1], então a função deve retornar [1x3, 4x5, 3x1] = [3, 20, 3]. \n",
    "\n"
   ]
  },
  {
   "cell_type": "code",
   "execution_count": null,
   "metadata": {},
   "outputs": [],
   "source": [
    "#questão 12 \n",
    "# Faça uma função que recebe um número x e uma lista numérica e\n",
    "# retorna uma lista cujos elementos são os itens da lista de entrada multiplicado por x. \n",
    "# Exemplo: se a função receber o número 5 e a lista [3,5,1], então a função deve retornar [5x3, 5x5, 5x1] = [15, 25, 5]. "
   ]
  },
  {
   "cell_type": "code",
   "execution_count": null,
   "metadata": {},
   "outputs": [],
   "source": [
    "#questão 13 \n",
    "# Faça uma função que recebe uma lista de números e retorna a soma dos elementos dessa lista.\n"
   ]
  },
  {
   "cell_type": "code",
   "execution_count": null,
   "metadata": {},
   "outputs": [],
   "source": [
    "#questão 14 \n",
    "# Faça uma função que recebe uma lista de números e retorna a média aritmética dos elementos dessa lista."
   ]
  },
  {
   "cell_type": "code",
   "execution_count": null,
   "metadata": {},
   "outputs": [],
   "source": [
    "#Desafio 1 \n",
    "# Faça uma função que receba um número e calcule seu fatorial. "
   ]
  },
  {
   "cell_type": "code",
   "execution_count": null,
   "metadata": {},
   "outputs": [],
   "source": [
    "#Desafio 2 \n",
    "# Super Desafio! - Repita o exercício anterior usando recursão, ou seja, \n",
    "# uma função que chame ela mesma, lembrando que 3! = 3*2!, que 2! = 2*1!, que 1! = 1*0! e que 0! = 1. "
   ]
  },
  {
   "cell_type": "code",
   "execution_count": null,
   "metadata": {},
   "outputs": [],
   "source": [
    "#Desafio 3\n"
   ]
  },
  {
   "cell_type": "code",
   "execution_count": null,
   "metadata": {},
   "outputs": [],
   "source": [
    "#Desafio 4"
   ]
  },
  {
   "cell_type": "code",
   "execution_count": null,
   "metadata": {},
   "outputs": [],
   "source": [
    "#Desafio 5"
   ]
  },
  {
   "cell_type": "code",
   "execution_count": null,
   "metadata": {},
   "outputs": [],
   "source": [
    "#Desafio 6"
   ]
  },
  {
   "cell_type": "code",
   "execution_count": null,
   "metadata": {},
   "outputs": [],
   "source": [
    "#Desafio 7"
   ]
  }
 ],
 "metadata": {
  "kernelspec": {
   "display_name": "Python 3.10.7 64-bit",
   "language": "python",
   "name": "python3"
  },
  "language_info": {
   "codemirror_mode": {
    "name": "ipython",
    "version": 3
   },
   "file_extension": ".py",
   "mimetype": "text/x-python",
   "name": "python",
   "nbconvert_exporter": "python",
   "pygments_lexer": "ipython3",
   "version": "3.10.7"
  },
  "orig_nbformat": 4,
  "vscode": {
   "interpreter": {
    "hash": "8e422274af7bea950b99ce5931db79f336f723780200fdaaaa6fd2c62e737577"
   }
  }
 },
 "nbformat": 4,
 "nbformat_minor": 2
}
