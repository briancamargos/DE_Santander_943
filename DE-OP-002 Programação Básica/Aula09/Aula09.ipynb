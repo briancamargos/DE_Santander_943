{
 "cells": [
  {
   "cell_type": "markdown",
   "metadata": {},
   "source": [
    "# Recados"
   ]
  },
  {
   "cell_type": "markdown",
   "metadata": {},
   "source": [
    "- Segunda, dia 29 vai ter mais uma aula super legal de Programação Básica\n",
    "- Terça, dia 30 começa o curso de Versionamento e Arquivos de Marcação\n",
    "- Quarta, dia 01 é a segunda aula de Versionamento e Arquivos de Marcação\n",
    "- E continua toda 2ª, 4ª e 6ª\n",
    "\n",
    "Excepcionalmente nesse módulo teve essa alteração da aula extra"
   ]
  },
  {
   "cell_type": "markdown",
   "metadata": {},
   "source": [
    "Avaliação por rubrica:\n",
    "\n",
    "- Avaliação do professor e do curso: https://forms.gle/2kfb4NakEupK91sy7\n",
    "- Autoavaliação: https://forms.gle/mADjTJ6x8e3soUuw6\n",
    "  "
   ]
  },
  {
   "cell_type": "markdown",
   "metadata": {},
   "source": [
    "# List comprehension e expressões geradoras"
   ]
  },
  {
   "cell_type": "code",
   "execution_count": 5,
   "metadata": {},
   "outputs": [
    {
     "name": "stdout",
     "output_type": "stream",
     "text": [
      "[3.0, 1.0, 2.0]\n"
     ]
    }
   ],
   "source": [
    "# LISTAS\n",
    "\n",
    "numeros = [1, 3, 6, 2, 4, -1]\n",
    "\n",
    "# Utilizar expressões geradoras (list comprehension) para dividir cada um dos números pares da lista por 2.\n",
    "\n",
    "metade_pares = [n/2 for n in numeros if n % 2 ==0]\n",
    "\n",
    "print(metade_pares)\n"
   ]
  },
  {
   "cell_type": "code",
   "execution_count": 4,
   "metadata": {},
   "outputs": [
    {
     "name": "stdout",
     "output_type": "stream",
     "text": [
      "[3.0, 1.0, 2.0]\n"
     ]
    }
   ],
   "source": [
    "lista_numeros = []\n",
    "\n",
    "for n in numeros:\n",
    "    if n % 2 == 0: # verificando se é par\n",
    "        lista_numeros.append(n/2)\n",
    "        \n",
    "    \n",
    "print(lista_numeros)"
   ]
  },
  {
   "cell_type": "code",
   "execution_count": 15,
   "metadata": {},
   "outputs": [
    {
     "name": "stdout",
     "output_type": "stream",
     "text": [
      "['ímpar', 2, 'ímpar', 4, 'ímpar', 6, 'ímpar', 8, 'ímpar', 10, 'ímpar', 12, 'ímpar', 14, 'ímpar', 16, 'ímpar', 18, 'ímpar', 20, 'ímpar', 22, 'ímpar', 24, 'ímpar', 26, 'ímpar', 28, 'ímpar', 30, 'ímpar', 32, 'ímpar', 34, 'ímpar', 36, 'ímpar', 38, 'ímpar', 40, 'ímpar', 42, 'ímpar', 44, 'ímpar', 46, 'ímpar', 48, 'ímpar', 50, 'ímpar', 52, 'ímpar', 54, 'ímpar', 56, 'ímpar', 58, 'ímpar', 60, 'ímpar', 62, 'ímpar', 64, 'ímpar', 66, 'ímpar', 68, 'ímpar', 70, 'ímpar', 72, 'ímpar', 74, 'ímpar', 76, 'ímpar', 78, 'ímpar', 80, 'ímpar', 82, 'ímpar', 84, 'ímpar', 86, 'ímpar', 88, 'ímpar', 90, 'ímpar', 92, 'ímpar', 94, 'ímpar', 96, 'ímpar', 98, 'ímpar']\n"
     ]
    }
   ],
   "source": [
    "# tuplas\n",
    "tupla = (i if i % 2 ==0 else 'ímpar' for i in range(100) if i!=0 )\n",
    "\n",
    "print(list(tupla))\n"
   ]
  },
  {
   "cell_type": "code",
   "execution_count": 7,
   "metadata": {},
   "outputs": [
    {
     "name": "stdout",
     "output_type": "stream",
     "text": [
      "[0, 'ímpar', 2, 'ímpar', 4, 'ímpar', 6, 'ímpar', 8, 'ímpar', 10, 'ímpar', 12, 'ímpar', 14, 'ímpar', 16, 'ímpar', 18, 'ímpar', 20, 'ímpar', 22, 'ímpar', 24, 'ímpar', 26, 'ímpar', 28, 'ímpar', 30, 'ímpar', 32, 'ímpar', 34, 'ímpar', 36, 'ímpar', 38, 'ímpar', 40, 'ímpar', 42, 'ímpar', 44, 'ímpar', 46, 'ímpar', 48, 'ímpar', 50, 'ímpar', 52, 'ímpar', 54, 'ímpar', 56, 'ímpar', 58, 'ímpar', 60, 'ímpar', 62, 'ímpar', 64, 'ímpar', 66, 'ímpar', 68, 'ímpar', 70, 'ímpar', 72, 'ímpar', 74, 'ímpar', 76, 'ímpar', 78, 'ímpar', 80, 'ímpar', 82, 'ímpar', 84, 'ímpar', 86, 'ímpar', 88, 'ímpar', 90, 'ímpar', 92, 'ímpar', 94, 'ímpar', 96, 'ímpar', 98, 'ímpar']\n"
     ]
    }
   ],
   "source": [
    "lista = []\n",
    "\n",
    "for i in range(100):\n",
    "    if i % 2 == 0:\n",
    "        lista += [i]\n",
    "    else:\n",
    "        lista += ['ímpar']\n",
    "        \n",
    "print(lista)"
   ]
  },
  {
   "cell_type": "code",
   "execution_count": 14,
   "metadata": {},
   "outputs": [
    {
     "name": "stdout",
     "output_type": "stream",
     "text": [
      "{'chave1': 1, 'chave2': 2, 'chave3': 3}\n"
     ]
    }
   ],
   "source": [
    "# dicionários\n",
    "\n",
    "dicionario = { k:v for k, v in dados}\n",
    "\n",
    "print(dicionario)"
   ]
  },
  {
   "cell_type": "code",
   "execution_count": 12,
   "metadata": {},
   "outputs": [
    {
     "name": "stdout",
     "output_type": "stream",
     "text": [
      "{'chave1': 1, 'chave2': 2, 'chave3': 3}\n"
     ]
    }
   ],
   "source": [
    "dicionario = {}\n",
    "dados = [('chave1', 1), ('chave2', 2), ('chave3', 3)]\n",
    "\n",
    "for k, v in dados:\n",
    "    dicionario[k] = v\n",
    "    \n",
    "print(dicionario)"
   ]
  },
  {
   "cell_type": "markdown",
   "metadata": {},
   "source": [
    "# Funções"
   ]
  },
  {
   "cell_type": "code",
   "execution_count": 20,
   "metadata": {},
   "outputs": [
    {
     "name": "stdout",
     "output_type": "stream",
     "text": [
      "sem passar o segundo argumento\n",
      "passando o segundo argumento true\n",
      "PASSANDO O SEGUNDO ARGUMENTO FALSE\n"
     ]
    }
   ],
   "source": [
    "# criar uma função para padronizar uma string\n",
    "def padroniza_string(texto: str, lower: bool = True) -> str:\n",
    "    if lower:\n",
    "        return texto.lower()\n",
    "    else:\n",
    "        return texto.upper()\n",
    "    \n",
    "print(padroniza_string('Sem passar o SEGUNDO argumento'))\n",
    "print(padroniza_string('Passando o SEGUNDO argumento True', lower = True))\n",
    "print(padroniza_string('Passando o SEGUNDO argumento False', lower = False))        \n",
    "    "
   ]
  },
  {
   "cell_type": "code",
   "execution_count": 24,
   "metadata": {},
   "outputs": [],
   "source": [
    "lista_numeros = [1 , 2 , 3, 4, 5]"
   ]
  },
  {
   "cell_type": "code",
   "execution_count": 28,
   "metadata": {},
   "outputs": [],
   "source": [
    "def somatorio(*numeros):\n",
    "    print(numeros)\n",
    "    print(type(numeros))\n",
    "    soma = 0\n",
    "    for n in numeros:\n",
    "        soma += n\n",
    "    return soma"
   ]
  },
  {
   "cell_type": "code",
   "execution_count": 29,
   "metadata": {},
   "outputs": [
    {
     "name": "stdout",
     "output_type": "stream",
     "text": [
      "(2, 3, 4, 5)\n",
      "<class 'tuple'>\n"
     ]
    },
    {
     "data": {
      "text/plain": [
       "14"
      ]
     },
     "execution_count": 29,
     "metadata": {},
     "output_type": "execute_result"
    }
   ],
   "source": [
    "somatorio(2, 3, 4, 5)"
   ]
  },
  {
   "cell_type": "code",
   "execution_count": 30,
   "metadata": {},
   "outputs": [
    {
     "name": "stdout",
     "output_type": "stream",
     "text": [
      "(2, 3)\n",
      "<class 'tuple'>\n"
     ]
    },
    {
     "data": {
      "text/plain": [
       "5"
      ]
     },
     "execution_count": 30,
     "metadata": {},
     "output_type": "execute_result"
    }
   ],
   "source": [
    "somatorio(2, 3)"
   ]
  },
  {
   "cell_type": "code",
   "execution_count": 61,
   "metadata": {},
   "outputs": [
    {
     "name": "stdout",
     "output_type": "stream",
     "text": [
      "(1, 2, 3, 4, 5)\n",
      "<class 'tuple'>\n"
     ]
    },
    {
     "data": {
      "text/plain": [
       "15"
      ]
     },
     "execution_count": 61,
     "metadata": {},
     "output_type": "execute_result"
    }
   ],
   "source": [
    "somatorio(*lista_numeros)"
   ]
  },
  {
   "cell_type": "code",
   "execution_count": 33,
   "metadata": {},
   "outputs": [],
   "source": [
    "# Parâmetros opcionas kwargs\n",
    "\n",
    "def cadastro(**usuario) -> dict:\n",
    "    print(usuario)\n",
    "    print(type(usuario))\n",
    "    \n",
    "    return usuario"
   ]
  },
  {
   "cell_type": "code",
   "execution_count": 34,
   "metadata": {},
   "outputs": [
    {
     "name": "stdout",
     "output_type": "stream",
     "text": [
      "{'nome': 'João', 'cpf': 123456789}\n",
      "<class 'dict'>\n"
     ]
    },
    {
     "data": {
      "text/plain": [
       "{'nome': 'João', 'cpf': 123456789}"
      ]
     },
     "execution_count": 34,
     "metadata": {},
     "output_type": "execute_result"
    }
   ],
   "source": [
    "cadastro(nome='João', cpf = 123456789) "
   ]
  },
  {
   "cell_type": "code",
   "execution_count": 36,
   "metadata": {},
   "outputs": [
    {
     "name": "stdout",
     "output_type": "stream",
     "text": [
      "{'nome': 'Maria', 'cpf': 345678912}\n",
      "<class 'dict'>\n"
     ]
    },
    {
     "data": {
      "text/plain": [
       "{'nome': 'Maria', 'cpf': 345678912}"
      ]
     },
     "execution_count": 36,
     "metadata": {},
     "output_type": "execute_result"
    }
   ],
   "source": [
    "# passando um dicionário para a função\n",
    "\n",
    "maria = { 'nome': 'Maria', 'cpf': 345678912}\n",
    "\n",
    "cadastro(**maria)"
   ]
  },
  {
   "cell_type": "markdown",
   "metadata": {},
   "source": [
    "ordem dos parâmetros\n",
    "\n",
    "Caso sua função vá combinar múltiplos tipos de parâmetro, sempre siga a seguinte ordem: argumentos posicionais (os comuns), argumentos com asterisco (tupla), argumentos com valor padrão e argumentos com dois asteriscos (dicionário). Por exemplo, na função abaixo:\n",
    "\n",
    "```python\n",
    "def funcao(a, b, *c, d=0, e=1, **f)\n",
    "```\n",
    "- os 2 primeiros valores serão atribuídos a \"a\", \"b\"\n",
    "- os próximos valroes, independente da quantidade, serão incluídos na tupla c\n",
    "- se os valores \"d\" e/ou \"e\" forem passados explicitamente pelo nome, os valores passados serão adotados, senão, terão os valores padrão\n",
    "- quaisquer outros valores passados por nome serão atribuídos ao dicionário \"f\"."
   ]
  },
  {
   "cell_type": "code",
   "execution_count": 51,
   "metadata": {},
   "outputs": [],
   "source": [
    "def funcao_com_parametros(a, b, *c, d=0, e=1, **f):\n",
    "    print(f'Os dois primeiros valores são a={a} e b={b}')\n",
    "    print(f'A tupla é definida por * e é {c}')\n",
    "    print(f'Para aparecer o valores de \"d\" e \"e\", deve-se colocar explicitamente \"d\" e \"e\":{d} e {e}')\n",
    "    print(f'Para o dicionário é {f}')"
   ]
  },
  {
   "cell_type": "code",
   "execution_count": 40,
   "metadata": {},
   "outputs": [
    {
     "name": "stdout",
     "output_type": "stream",
     "text": [
      "Os dois primeiros valores são a=2 e b=3\n"
     ]
    }
   ],
   "source": [
    "funcao_com_parametros(2,3)"
   ]
  },
  {
   "cell_type": "code",
   "execution_count": 44,
   "metadata": {},
   "outputs": [
    {
     "name": "stdout",
     "output_type": "stream",
     "text": [
      "Os dois primeiros valores são a=2 e b=3\n",
      "A tupla é definida por * e é (1, 5)\n"
     ]
    }
   ],
   "source": [
    "funcao_com_parametros(2, 3 , 1, 5)"
   ]
  },
  {
   "cell_type": "code",
   "execution_count": 47,
   "metadata": {},
   "outputs": [
    {
     "name": "stdout",
     "output_type": "stream",
     "text": [
      "Os dois primeiros valores são a=2 e b=3\n",
      "A tupla é definida por * e é (1, 5)\n",
      "Para aparecer o valores de \"d\" e \"e\", deve-se colocar explicitamente d e e:4 e -3\n"
     ]
    }
   ],
   "source": [
    "funcao_com_parametros(2, 3 , 1, 5, d=4, e=-3)"
   ]
  },
  {
   "cell_type": "code",
   "execution_count": 52,
   "metadata": {},
   "outputs": [
    {
     "name": "stdout",
     "output_type": "stream",
     "text": [
      "Os dois primeiros valores são a=2 e b=3\n",
      "A tupla é definida por * e é (1, 5)\n",
      "Para aparecer o valores de \"d\" e \"e\", deve-se colocar explicitamente \"d\" e \"e\":4 e -3\n",
      "Para o dicionário é {'maria': 1, 'joao': 2}\n"
     ]
    }
   ],
   "source": [
    "funcao_com_parametros(2, 3 , 1, 5, d=4, e=-3, **{'maria':1, 'joao':2})"
   ]
  },
  {
   "cell_type": "code",
   "execution_count": 53,
   "metadata": {},
   "outputs": [
    {
     "name": "stdout",
     "output_type": "stream",
     "text": [
      "Os dois primeiros valores são a=2 e b=3\n",
      "A tupla é definida por * e é ()\n",
      "Para aparecer o valores de \"d\" e \"e\", deve-se colocar explicitamente \"d\" e \"e\":0 e 1\n",
      "Para o dicionário é {'x': 5}\n"
     ]
    }
   ],
   "source": [
    "funcao_com_parametros(2, 3, x=5)"
   ]
  },
  {
   "cell_type": "code",
   "execution_count": null,
   "metadata": {},
   "outputs": [],
   "source": [
    "# Funções anônimas\n",
    "\n",
    "def sum(lista:list) -> int:\n",
    "    return sum(lista)"
   ]
  },
  {
   "cell_type": "code",
   "execution_count": 54,
   "metadata": {},
   "outputs": [
    {
     "data": {
      "text/plain": [
       "16"
      ]
     },
     "execution_count": 54,
     "metadata": {},
     "output_type": "execute_result"
    }
   ],
   "source": [
    "numeros = [3, 4, 7, 2]\n",
    "\n",
    "# função anônima : lambda\n",
    "\n",
    "sum_op = lambda lista:sum(lista)\n",
    "\n",
    "sum_op(lista=numeros)"
   ]
  },
  {
   "cell_type": "code",
   "execution_count": 56,
   "metadata": {},
   "outputs": [
    {
     "name": "stdout",
     "output_type": "stream",
     "text": [
      "300.0\n"
     ]
    }
   ],
   "source": [
    "preco = 1000\n",
    "\n",
    "def calcular_imposto(preco):\n",
    "    return preco*0.3\n",
    "\n",
    "print(calcular_imposto(preco))"
   ]
  },
  {
   "cell_type": "code",
   "execution_count": 58,
   "metadata": {},
   "outputs": [
    {
     "name": "stdout",
     "output_type": "stream",
     "text": [
      "300.0\n"
     ]
    }
   ],
   "source": [
    "calcular_imposto2 = lambda x: x*0.3\n",
    "\n",
    "print(calcular_imposto2(preco))"
   ]
  },
  {
   "cell_type": "code",
   "execution_count": 60,
   "metadata": {},
   "outputs": [
    {
     "data": {
      "text/plain": [
       "2"
      ]
     },
     "execution_count": 60,
     "metadata": {},
     "output_type": "execute_result"
    }
   ],
   "source": [
    "funcao_teste = lambda a, b: a*b\n",
    "\n",
    "funcao_teste(1,2)"
   ]
  },
  {
   "cell_type": "markdown",
   "metadata": {},
   "source": [
    "**Funções MAP**\n",
    "\n"
   ]
  },
  {
   "cell_type": "code",
   "execution_count": 65,
   "metadata": {},
   "outputs": [],
   "source": [
    "# map vai aplicar uma função a todos os elementos\n",
    "# Converter todo o conteúdo de uma tupla para float\n",
    "\n",
    "tupla_str = ('1.0', '3.7', '5.4')\n",
    "\n",
    "map(float, tupla_str) # map(func, *iterables) --> map object\n",
    "\n",
    "tuple(map(float, tupla_str))\n",
    "\n",
    "tupla_float = tuple(map(float, tupla_str))"
   ]
  },
  {
   "cell_type": "markdown",
   "metadata": {},
   "source": [
    "**Funções FILTER**"
   ]
  },
  {
   "cell_type": "code",
   "execution_count": 69,
   "metadata": {},
   "outputs": [
    {
     "name": "stdout",
     "output_type": "stream",
     "text": [
      "[4, -8, 6, 10]\n"
     ]
    }
   ],
   "source": [
    "# Detectando pares em uma lista usando uma função pronta\n",
    "\n",
    "def eh_par(x):\n",
    "    return x % 2 == 0\n",
    "\n",
    "numeros = [1, 3, 4, -8, 6, 10, 11]\n",
    "\n",
    "filter(eh_par, numeros) # função eh_par na coleção números  - filter(function or None, iterable) --> filter object\n",
    "\n",
    "list(filter(eh_par, numeros))\n",
    "\n",
    "pares = list(filter(eh_par, numeros))\n",
    "\n",
    "print(pares)"
   ]
  },
  {
   "cell_type": "code",
   "execution_count": 70,
   "metadata": {},
   "outputs": [
    {
     "data": {
      "text/plain": [
       "[-3, -8, -2]"
      ]
     },
     "execution_count": 70,
     "metadata": {},
     "output_type": "execute_result"
    }
   ],
   "source": [
    "# Detectando negativos em uma lista usando lambda.\n",
    "\n",
    "numeros = [5, -3, 1, 4, 7, -8, -2]\n",
    "\n",
    "negativos = list(filter(lambda x: x < 0, numeros))\n",
    "\n",
    "negativos"
   ]
  },
  {
   "cell_type": "markdown",
   "metadata": {},
   "source": [
    "**Funções REDUCE**"
   ]
  },
  {
   "cell_type": "code",
   "execution_count": 72,
   "metadata": {},
   "outputs": [
    {
     "data": {
      "text/plain": [
       "25"
      ]
     },
     "execution_count": 72,
     "metadata": {},
     "output_type": "execute_result"
    }
   ],
   "source": [
    "from functools import reduce\n",
    "\n",
    "lista = [1, 3, 5, 7, 9]\n",
    "\n",
    "somatorio = reduce(lambda x, y: x + y, lista, 0) # função: o lambda criado; coleção: lista; valor inicial: 0\n",
    "\n",
    "somatorio"
   ]
  },
  {
   "cell_type": "code",
   "execution_count": 73,
   "metadata": {},
   "outputs": [
    {
     "name": "stdout",
     "output_type": "stream",
     "text": [
      "30\n"
     ]
    }
   ],
   "source": [
    "# Colocando valor inicial = 5\n",
    "\n",
    "somatorio_inicial = reduce(lambda x, y: x + y, lista, 5)\n",
    "\n",
    "print(somatorio_inicial)"
   ]
  },
  {
   "cell_type": "markdown",
   "metadata": {},
   "source": [
    "# Arquivo CSV\n",
    "\n"
   ]
  },
  {
   "cell_type": "code",
   "execution_count": 75,
   "metadata": {},
   "outputs": [
    {
     "name": "stdout",
     "output_type": "stream",
     "text": [
      "Imprimindo cada elemento individual da tabela:\n",
      "Aluno\n",
      "Nota1\n",
      "Nota2\n",
      "Presenças\n",
      "Cassia\n",
      "8\n",
      "9\n",
      "0.9\n",
      "Jessica\n",
      "8\n",
      "9.5\n",
      "0.8\n",
      "Daiane\n",
      "10\n",
      "7\n",
      "1\n",
      "Marina\n",
      "9\n",
      "8.5\n",
      "0.75\n"
     ]
    }
   ],
   "source": [
    "tabela = [['Aluno', 'Nota1', 'Nota2', 'Presenças'],\n",
    "          ['Cassia', 8 , 9, .90],\n",
    "          ['Jessica', 8, 9.5, .80],\n",
    "          ['Daiane', 10, 7, 1],\n",
    "          ['Marina', 9, 8.5, 0.75]\n",
    "          ]\n",
    "\n",
    "print('Imprimindo cada elemento individual da tabela:')\n",
    "\n",
    "for linha in tabela:\n",
    "    for elemento in linha:\n",
    "        print(elemento)"
   ]
  },
  {
   "cell_type": "code",
   "execution_count": 76,
   "metadata": {},
   "outputs": [
    {
     "name": "stdout",
     "output_type": "stream",
     "text": [
      "Imprimindo cada \"linha\" da tabela\n",
      "['Aluno', 'Nota1', 'Nota2', 'Presenças']\n",
      "['Cassia', 8, 9, 0.9]\n",
      "['Jessica', 8, 9.5, 0.8]\n",
      "['Daiane', 10, 7, 1]\n",
      "['Marina', 9, 8.5, 0.75]\n"
     ]
    }
   ],
   "source": [
    "print('Imprimindo cada \"linha\" da tabela')\n",
    "for linha in tabela:\n",
    "    print(linha)"
   ]
  },
  {
   "cell_type": "code",
   "execution_count": 77,
   "metadata": {},
   "outputs": [
    {
     "name": "stdout",
     "output_type": "stream",
     "text": [
      "Imprimindo o elemento na linha 2, coluna 0:\n",
      "Jessica\n"
     ]
    }
   ],
   "source": [
    "print('Imprimindo o elemento na linha 2, coluna 0:')\n",
    "\n",
    "print(tabela[2][0])"
   ]
  },
  {
   "cell_type": "markdown",
   "metadata": {},
   "source": [
    "A sigla CSV significa Comma-Separated Values, ou \"valores separados por vírgula\". Este formato é uma forma padrão de representar tabelas usando arquivos de texto simples: cada elemento é separado por uma vírgula, e cada linha é separada por uma quebra de linha."
   ]
  },
  {
   "cell_type": "code",
   "execution_count": 80,
   "metadata": {},
   "outputs": [
    {
     "data": {
      "text/html": [
       "<div>\n",
       "<style scoped>\n",
       "    .dataframe tbody tr th:only-of-type {\n",
       "        vertical-align: middle;\n",
       "    }\n",
       "\n",
       "    .dataframe tbody tr th {\n",
       "        vertical-align: top;\n",
       "    }\n",
       "\n",
       "    .dataframe thead th {\n",
       "        text-align: right;\n",
       "    }\n",
       "</style>\n",
       "<table border=\"1\" class=\"dataframe\">\n",
       "  <thead>\n",
       "    <tr style=\"text-align: right;\">\n",
       "      <th></th>\n",
       "      <th>Nome</th>\n",
       "      <th>Idade</th>\n",
       "      <th>Altura</th>\n",
       "      <th>Peso</th>\n",
       "    </tr>\n",
       "  </thead>\n",
       "  <tbody>\n",
       "    <tr>\n",
       "      <th>0</th>\n",
       "      <td>Amanda</td>\n",
       "      <td>20</td>\n",
       "      <td>1.60</td>\n",
       "      <td>50</td>\n",
       "    </tr>\n",
       "    <tr>\n",
       "      <th>1</th>\n",
       "      <td>Carlos</td>\n",
       "      <td>21</td>\n",
       "      <td>1.65</td>\n",
       "      <td>72</td>\n",
       "    </tr>\n",
       "    <tr>\n",
       "      <th>2</th>\n",
       "      <td>Diego</td>\n",
       "      <td>30</td>\n",
       "      <td>1.82</td>\n",
       "      <td>93</td>\n",
       "    </tr>\n",
       "    <tr>\n",
       "      <th>3</th>\n",
       "      <td>Fernanda</td>\n",
       "      <td>16</td>\n",
       "      <td>1.70</td>\n",
       "      <td>67</td>\n",
       "    </tr>\n",
       "    <tr>\n",
       "      <th>4</th>\n",
       "      <td>Paulo</td>\n",
       "      <td>28</td>\n",
       "      <td>1.87</td>\n",
       "      <td>70</td>\n",
       "    </tr>\n",
       "    <tr>\n",
       "      <th>5</th>\n",
       "      <td>Raquel</td>\n",
       "      <td>42</td>\n",
       "      <td>1.55</td>\n",
       "      <td>80</td>\n",
       "    </tr>\n",
       "  </tbody>\n",
       "</table>\n",
       "</div>"
      ],
      "text/plain": [
       "       Nome  Idade  Altura  Peso\n",
       "0    Amanda     20    1.60    50\n",
       "1    Carlos     21    1.65    72\n",
       "2     Diego     30    1.82    93\n",
       "3  Fernanda     16    1.70    67\n",
       "4     Paulo     28    1.87    70\n",
       "5    Raquel     42    1.55    80"
      ]
     },
     "execution_count": 80,
     "metadata": {},
     "output_type": "execute_result"
    }
   ],
   "source": [
    "## BONUS\n",
    "\n",
    "import pandas as pd\n",
    "\n",
    "df = pd.read_csv('dados_pessoais.csv') # df = dataframe\n",
    "df"
   ]
  },
  {
   "cell_type": "code",
   "execution_count": 81,
   "metadata": {},
   "outputs": [
    {
     "data": {
      "text/plain": [
       "0      Amanda\n",
       "1      Carlos\n",
       "2       Diego\n",
       "3    Fernanda\n",
       "4       Paulo\n",
       "5      Raquel\n",
       "Name: Nome, dtype: object"
      ]
     },
     "execution_count": 81,
     "metadata": {},
     "output_type": "execute_result"
    }
   ],
   "source": [
    "# para ver a coluna nome\n",
    "df['Nome']"
   ]
  },
  {
   "cell_type": "code",
   "execution_count": 83,
   "metadata": {},
   "outputs": [
    {
     "data": {
      "text/plain": [
       "0    45\n",
       "1    67\n",
       "2    88\n",
       "3    62\n",
       "4    65\n",
       "5    75\n",
       "Name: Peso_menor, dtype: int64"
      ]
     },
     "execution_count": 83,
     "metadata": {},
     "output_type": "execute_result"
    }
   ],
   "source": [
    "df['Peso_menor'] = df['Peso'] - 5 # emagracimento\n",
    "df['Peso_menor']"
   ]
  },
  {
   "cell_type": "code",
   "execution_count": 84,
   "metadata": {},
   "outputs": [
    {
     "data": {
      "text/html": [
       "<div>\n",
       "<style scoped>\n",
       "    .dataframe tbody tr th:only-of-type {\n",
       "        vertical-align: middle;\n",
       "    }\n",
       "\n",
       "    .dataframe tbody tr th {\n",
       "        vertical-align: top;\n",
       "    }\n",
       "\n",
       "    .dataframe thead th {\n",
       "        text-align: right;\n",
       "    }\n",
       "</style>\n",
       "<table border=\"1\" class=\"dataframe\">\n",
       "  <thead>\n",
       "    <tr style=\"text-align: right;\">\n",
       "      <th></th>\n",
       "      <th>Nome</th>\n",
       "      <th>Idade</th>\n",
       "      <th>Altura</th>\n",
       "      <th>Peso</th>\n",
       "      <th>Peso_menor</th>\n",
       "    </tr>\n",
       "  </thead>\n",
       "  <tbody>\n",
       "    <tr>\n",
       "      <th>0</th>\n",
       "      <td>Amanda</td>\n",
       "      <td>20</td>\n",
       "      <td>1.60</td>\n",
       "      <td>50</td>\n",
       "      <td>45</td>\n",
       "    </tr>\n",
       "    <tr>\n",
       "      <th>1</th>\n",
       "      <td>Carlos</td>\n",
       "      <td>21</td>\n",
       "      <td>1.65</td>\n",
       "      <td>72</td>\n",
       "      <td>67</td>\n",
       "    </tr>\n",
       "    <tr>\n",
       "      <th>2</th>\n",
       "      <td>Diego</td>\n",
       "      <td>30</td>\n",
       "      <td>1.82</td>\n",
       "      <td>93</td>\n",
       "      <td>88</td>\n",
       "    </tr>\n",
       "    <tr>\n",
       "      <th>3</th>\n",
       "      <td>Fernanda</td>\n",
       "      <td>16</td>\n",
       "      <td>1.70</td>\n",
       "      <td>67</td>\n",
       "      <td>62</td>\n",
       "    </tr>\n",
       "    <tr>\n",
       "      <th>4</th>\n",
       "      <td>Paulo</td>\n",
       "      <td>28</td>\n",
       "      <td>1.87</td>\n",
       "      <td>70</td>\n",
       "      <td>65</td>\n",
       "    </tr>\n",
       "    <tr>\n",
       "      <th>5</th>\n",
       "      <td>Raquel</td>\n",
       "      <td>42</td>\n",
       "      <td>1.55</td>\n",
       "      <td>80</td>\n",
       "      <td>75</td>\n",
       "    </tr>\n",
       "  </tbody>\n",
       "</table>\n",
       "</div>"
      ],
      "text/plain": [
       "       Nome  Idade  Altura  Peso  Peso_menor\n",
       "0    Amanda     20    1.60    50          45\n",
       "1    Carlos     21    1.65    72          67\n",
       "2     Diego     30    1.82    93          88\n",
       "3  Fernanda     16    1.70    67          62\n",
       "4     Paulo     28    1.87    70          65\n",
       "5    Raquel     42    1.55    80          75"
      ]
     },
     "execution_count": 84,
     "metadata": {},
     "output_type": "execute_result"
    }
   ],
   "source": [
    "df"
   ]
  },
  {
   "cell_type": "code",
   "execution_count": 85,
   "metadata": {},
   "outputs": [],
   "source": [
    "df['Idade'] = df['Idade'].astype('str')"
   ]
  },
  {
   "cell_type": "code",
   "execution_count": 87,
   "metadata": {},
   "outputs": [
    {
     "name": "stdout",
     "output_type": "stream",
     "text": [
      "<class 'pandas.core.frame.DataFrame'>\n",
      "RangeIndex: 6 entries, 0 to 5\n",
      "Data columns (total 5 columns):\n",
      " #   Column      Non-Null Count  Dtype  \n",
      "---  ------      --------------  -----  \n",
      " 0   Nome        6 non-null      object \n",
      " 1   Idade       6 non-null      object \n",
      " 2   Altura      6 non-null      float64\n",
      " 3   Peso        6 non-null      int64  \n",
      " 4   Peso_menor  6 non-null      int64  \n",
      "dtypes: float64(1), int64(2), object(2)\n",
      "memory usage: 368.0+ bytes\n"
     ]
    }
   ],
   "source": [
    "df.info()"
   ]
  },
  {
   "cell_type": "markdown",
   "metadata": {},
   "source": [
    "## Arquivo JSON\n",
    "\n",
    "JSON é uma sigla para JavaScript Object Notation. O JavaScript é uma linguagem muito utilizada em web, e assim como o Python, ela é uma linguagem orientada a objeto. Ocorre que a forma como objetos são representados nessa linguagem é bastante legível para seres humanos e fácil de decompor usando programação também."
   ]
  },
  {
   "cell_type": "code",
   "execution_count": 89,
   "metadata": {},
   "outputs": [
    {
     "name": "stdout",
     "output_type": "stream",
     "text": [
      "Mario\n",
      "0\n",
      "{'nome': 'Mario', 'pontuacao': 0}\n"
     ]
    }
   ],
   "source": [
    "# Transformando JSON em um dicionário Python.\n",
    "\n",
    "import json\n",
    "\n",
    "jogador = '{\"nome\":\"Mario\",\"pontuacao\":0}'\n",
    "\n",
    "dicionario = json.loads(jogador)\n",
    "\n",
    "print(dicionario['nome'])\n",
    "print(dicionario['pontuacao'])\n",
    "\n",
    "print(dicionario)"
   ]
  },
  {
   "cell_type": "code",
   "execution_count": 90,
   "metadata": {},
   "outputs": [
    {
     "name": "stdout",
     "output_type": "stream",
     "text": [
      "{\"nome\": \"Mario\", \"pontuacao\": 0}\n"
     ]
    }
   ],
   "source": [
    "# Transformando dicionário em um JSON.\n",
    "\n",
    "import json\n",
    "\n",
    "jogador = dict()\n",
    "jogador['nome']  = 'Mario'\n",
    "jogador['pontuacao'] = 0\n",
    "\n",
    "string_json = json.dumps(jogador)\n",
    "\n",
    "print(string_json)"
   ]
  },
  {
   "cell_type": "code",
   "execution_count": 91,
   "metadata": {},
   "outputs": [
    {
     "data": {
      "text/html": [
       "<div>\n",
       "<style scoped>\n",
       "    .dataframe tbody tr th:only-of-type {\n",
       "        vertical-align: middle;\n",
       "    }\n",
       "\n",
       "    .dataframe tbody tr th {\n",
       "        vertical-align: top;\n",
       "    }\n",
       "\n",
       "    .dataframe thead th {\n",
       "        text-align: right;\n",
       "    }\n",
       "</style>\n",
       "<table border=\"1\" class=\"dataframe\">\n",
       "  <thead>\n",
       "    <tr style=\"text-align: right;\">\n",
       "      <th></th>\n",
       "      <th>Nome</th>\n",
       "      <th>Idade</th>\n",
       "      <th>Altura</th>\n",
       "      <th>Peso</th>\n",
       "      <th>Peso_menor</th>\n",
       "    </tr>\n",
       "  </thead>\n",
       "  <tbody>\n",
       "    <tr>\n",
       "      <th>0</th>\n",
       "      <td>Amanda</td>\n",
       "      <td>20</td>\n",
       "      <td>1.60</td>\n",
       "      <td>50</td>\n",
       "      <td>45</td>\n",
       "    </tr>\n",
       "    <tr>\n",
       "      <th>1</th>\n",
       "      <td>Carlos</td>\n",
       "      <td>21</td>\n",
       "      <td>1.65</td>\n",
       "      <td>72</td>\n",
       "      <td>67</td>\n",
       "    </tr>\n",
       "    <tr>\n",
       "      <th>2</th>\n",
       "      <td>Diego</td>\n",
       "      <td>30</td>\n",
       "      <td>1.82</td>\n",
       "      <td>93</td>\n",
       "      <td>88</td>\n",
       "    </tr>\n",
       "    <tr>\n",
       "      <th>3</th>\n",
       "      <td>Fernanda</td>\n",
       "      <td>16</td>\n",
       "      <td>1.70</td>\n",
       "      <td>67</td>\n",
       "      <td>62</td>\n",
       "    </tr>\n",
       "    <tr>\n",
       "      <th>4</th>\n",
       "      <td>Paulo</td>\n",
       "      <td>28</td>\n",
       "      <td>1.87</td>\n",
       "      <td>70</td>\n",
       "      <td>65</td>\n",
       "    </tr>\n",
       "    <tr>\n",
       "      <th>5</th>\n",
       "      <td>Raquel</td>\n",
       "      <td>42</td>\n",
       "      <td>1.55</td>\n",
       "      <td>80</td>\n",
       "      <td>75</td>\n",
       "    </tr>\n",
       "  </tbody>\n",
       "</table>\n",
       "</div>"
      ],
      "text/plain": [
       "       Nome Idade  Altura  Peso  Peso_menor\n",
       "0    Amanda    20    1.60    50          45\n",
       "1    Carlos    21    1.65    72          67\n",
       "2     Diego    30    1.82    93          88\n",
       "3  Fernanda    16    1.70    67          62\n",
       "4     Paulo    28    1.87    70          65\n",
       "5    Raquel    42    1.55    80          75"
      ]
     },
     "execution_count": 91,
     "metadata": {},
     "output_type": "execute_result"
    }
   ],
   "source": [
    "df"
   ]
  },
  {
   "cell_type": "code",
   "execution_count": 92,
   "metadata": {},
   "outputs": [],
   "source": [
    "df.to_json('arquivo.json') # salvando o dataframe na pasta do projeto com o nome arquivo.json"
   ]
  },
  {
   "cell_type": "code",
   "execution_count": 97,
   "metadata": {},
   "outputs": [],
   "source": [
    "df.to_json('../Exercicios/arquivo.json') # salvando o dataframe na pasta Exercício com o nome arquivo.json"
   ]
  },
  {
   "cell_type": "markdown",
   "metadata": {},
   "source": [
    "nome_arquivo.json"
   ]
  },
  {
   "cell_type": "markdown",
   "metadata": {},
   "source": [
    "https://jsoncrack.com/editor"
   ]
  }
 ],
 "metadata": {
  "kernelspec": {
   "display_name": "Python 3.9.7 ('base')",
   "language": "python",
   "name": "python3"
  },
  "language_info": {
   "codemirror_mode": {
    "name": "ipython",
    "version": 3
   },
   "file_extension": ".py",
   "mimetype": "text/x-python",
   "name": "python",
   "nbconvert_exporter": "python",
   "pygments_lexer": "ipython3",
   "version": "3.9.7"
  },
  "orig_nbformat": 4,
  "vscode": {
   "interpreter": {
    "hash": "5c66de18c091297d67c9a295278ca9503b5163a383fa85591c3cdb6daec33020"
   }
  }
 },
 "nbformat": 4,
 "nbformat_minor": 2
}
