{
 "cells": [
  {
   "cell_type": "markdown",
   "metadata": {},
   "source": [
    "# Continuação de Strings e suas funções e métodos"
   ]
  },
  {
   "cell_type": "markdown",
   "metadata": {},
   "source": [
    "Existem funções prontas que nos ajudam a trabalhar com strings\n",
    "\n",
    "- Maiúscula e minúscula (capitalazação das letras)"
   ]
  },
  {
   "cell_type": "code",
   "execution_count": 1,
   "metadata": {},
   "outputs": [
    {
     "name": "stdout",
     "output_type": "stream",
     "text": [
      "QuErO mOsTrar UMA frase\n"
     ]
    }
   ],
   "source": [
    "frase = 'QuErO mOsTrar UMA frase'\n",
    "\n",
    "print(frase)"
   ]
  },
  {
   "cell_type": "code",
   "execution_count": 4,
   "metadata": {},
   "outputs": [
    {
     "name": "stdout",
     "output_type": "stream",
     "text": [
      "QUERO MOSTRAR UMA FRASE\n"
     ]
    }
   ],
   "source": [
    "# Quero a frase toda em letras maiúsculas\n",
    "\n",
    "maiuscula = frase.upper() #método que transforma a string em letras maíusculas... Ele não modifica a variável\n",
    "\n",
    "print(maiuscula)\n"
   ]
  },
  {
   "cell_type": "code",
   "execution_count": 5,
   "metadata": {},
   "outputs": [
    {
     "data": {
      "text/plain": [
       "'quero mostrar uma frase'"
      ]
     },
     "execution_count": 5,
     "metadata": {},
     "output_type": "execute_result"
    }
   ],
   "source": [
    "# quero a frase toda em letras minúsculas\n",
    "\n",
    "minuscula = frase.lower()\n",
    "minuscula"
   ]
  },
  {
   "cell_type": "code",
   "execution_count": 7,
   "metadata": {},
   "outputs": [
    {
     "data": {
      "text/plain": [
       "['xxxx', 'gmail.com']"
      ]
     },
     "execution_count": 7,
     "metadata": {},
     "output_type": "execute_result"
    }
   ],
   "source": [
    "# bonus\n",
    "\"xxxx@gmail.com\".split(\"@\") #separar a string por um caracter (espaço, vírgula)"
   ]
  },
  {
   "cell_type": "code",
   "execution_count": 8,
   "metadata": {},
   "outputs": [
    {
     "data": {
      "text/plain": [
       "'Quero mostrar uma frase'"
      ]
     },
     "execution_count": 8,
     "metadata": {},
     "output_type": "execute_result"
    }
   ],
   "source": [
    "# quero colocar apenas a primeira maiúscula e o resto da frase em minúscula\n",
    "\n",
    "capitalize =  frase.capitalize()\n",
    "capitalize"
   ]
  },
  {
   "cell_type": "code",
   "execution_count": 10,
   "metadata": {},
   "outputs": [
    {
     "data": {
      "text/plain": [
       "'Quero Mostrar Uma Frase'"
      ]
     },
     "execution_count": 10,
     "metadata": {},
     "output_type": "execute_result"
    }
   ],
   "source": [
    "# quero maiúscula a primeira letra de cada palavra\n",
    "\n",
    "title = frase.title()\n",
    "title"
   ]
  },
  {
   "cell_type": "code",
   "execution_count": 11,
   "metadata": {},
   "outputs": [
    {
     "data": {
      "text/plain": [
       "'QuErO mOsTrar UMA frase'"
      ]
     },
     "execution_count": 11,
     "metadata": {},
     "output_type": "execute_result"
    }
   ],
   "source": [
    "frase # string imutável"
   ]
  },
  {
   "cell_type": "code",
   "execution_count": 12,
   "metadata": {},
   "outputs": [
    {
     "name": "stdout",
     "output_type": "stream",
     "text": [
      "Seja bem-vindo!\n"
     ]
    }
   ],
   "source": [
    "# um exemplo onde fica mais fácil usar essas funções\n",
    "\n",
    "usuario = input('Digite \"sim\" se aceita os termos de uso: ')\n",
    "if usuario.upper() == 'SIM': # evita ter que comparar com sim, Sim, sIm, S, s\n",
    "    print('Seja bem-vindo!')\n",
    "else:\n",
    "    print('Que pena.') "
   ]
  },
  {
   "cell_type": "markdown",
   "metadata": {},
   "source": [
    "## Quebrando uma string"
   ]
  },
  {
   "cell_type": "code",
   "execution_count": 13,
   "metadata": {},
   "outputs": [
    {
     "name": "stdout",
     "output_type": "stream",
     "text": [
      "['um', 'texto', 'qualquer', 'aqui,', 'por', 'exemplo']\n"
     ]
    }
   ],
   "source": [
    "texto = \"um texto qualquer aqui, por exemplo\"\n",
    "\n",
    "palavras = texto.split() #quebrando o texto em palavras - separando as palavras pelo \"espaço\" (padrão) -> transforma em lista\n",
    "print(palavras) # obs.: split(\" \")"
   ]
  },
  {
   "cell_type": "code",
   "execution_count": 14,
   "metadata": {},
   "outputs": [
    {
     "data": {
      "text/plain": [
       "['um texto qualquer aqui', ' por exemplo']"
      ]
     },
     "execution_count": 14,
     "metadata": {},
     "output_type": "execute_result"
    }
   ],
   "source": [
    "texto_2 = texto.split(',')\n",
    "texto_2"
   ]
  },
  {
   "cell_type": "code",
   "execution_count": 16,
   "metadata": {},
   "outputs": [
    {
     "data": {
      "text/plain": [
       "['um', 'texto', 'qualquer', 'aqui']"
      ]
     },
     "execution_count": 16,
     "metadata": {},
     "output_type": "execute_result"
    }
   ],
   "source": [
    "# pegando o primeiro elemento da string texto_2 e separar por espaço\n",
    "\n",
    "texto_2[0].split()"
   ]
  },
  {
   "cell_type": "code",
   "execution_count": 23,
   "metadata": {},
   "outputs": [
    {
     "name": "stdout",
     "output_type": "stream",
     "text": [
      "frase:  QuErO mOsTrar UMA frase\n",
      "frase.lower():  quero mostrar uma frase\n",
      "frase.lower().split():  ['quero', 'mostrar', 'uma', 'frase']\n",
      "frase.lower().split()[-2]:  uma\n"
     ]
    }
   ],
   "source": [
    "# Podemos usar vários métodos na mesma linha, na sequência\n",
    "\n",
    "frase.lower().split()[-1]\n",
    "\n",
    "print('frase: ',frase)\n",
    "print('frase.lower(): ',frase.lower())\n",
    "print('frase.lower().split(): ', frase.lower().split())\n",
    "print('frase.lower().split()[-2]: ', frase.lower().split()[-2]) # -2 é o penúltimo elemento"
   ]
  },
  {
   "cell_type": "code",
   "execution_count": 25,
   "metadata": {},
   "outputs": [
    {
     "data": {
      "text/plain": [
       "['16', '11', '2022']"
      ]
     },
     "execution_count": 25,
     "metadata": {},
     "output_type": "execute_result"
    }
   ],
   "source": [
    "# Separar em dia, mês e ano\n",
    "\n",
    "data = '16/11/2022'\n",
    "\n",
    "lista_data = data.split('/')\n",
    "\n",
    "lista_data"
   ]
  },
  {
   "cell_type": "code",
   "execution_count": 26,
   "metadata": {},
   "outputs": [
    {
     "name": "stdout",
     "output_type": "stream",
     "text": [
      "Dia:  16\n",
      "Mês:  11\n",
      "Ano:  2022\n"
     ]
    }
   ],
   "source": [
    "dia = int(lista_data[0])\n",
    "mes = int(lista_data[1])\n",
    "ano = int(lista_data[2])\n",
    "\n",
    "print('Dia: ', dia)\n",
    "print('Mês: ', mes)\n",
    "print('Ano: ', ano)"
   ]
  },
  {
   "cell_type": "code",
   "execution_count": 30,
   "metadata": {},
   "outputs": [
    {
     "data": {
      "text/plain": [
       "'16/11/2022'"
      ]
     },
     "execution_count": 30,
     "metadata": {},
     "output_type": "execute_result"
    }
   ],
   "source": [
    "# voltar para a data original (string)\n",
    "\n",
    "str(dia) + '/' + str(mes) + '/' + str(ano)# Concatenar"
   ]
  },
  {
   "cell_type": "code",
   "execution_count": 34,
   "metadata": {},
   "outputs": [
    {
     "data": {
      "text/plain": [
       "'16/Novembro/2022'"
      ]
     },
     "execution_count": 34,
     "metadata": {},
     "output_type": "execute_result"
    }
   ],
   "source": [
    "# como substituir \"11\" por novembro\n",
    "\n",
    "nova_data = data.replace('11', 'Novembro')\n",
    "\n",
    "nova_data"
   ]
  },
  {
   "cell_type": "code",
   "execution_count": 36,
   "metadata": {},
   "outputs": [
    {
     "data": {
      "text/plain": [
       "'16.Novembro.2022'"
      ]
     },
     "execution_count": 36,
     "metadata": {},
     "output_type": "execute_result"
    }
   ],
   "source": [
    "nova_data.replace('/', '.')"
   ]
  },
  {
   "cell_type": "code",
   "execution_count": 38,
   "metadata": {},
   "outputs": [
    {
     "data": {
      "text/plain": [
       "'16/Novembro/0'"
      ]
     },
     "execution_count": 38,
     "metadata": {},
     "output_type": "execute_result"
    }
   ],
   "source": [
    "# podemos usar o replace para \"apagar\" um caracter\n",
    "\n",
    "nova_data.replace('2', '')"
   ]
  },
  {
   "cell_type": "markdown",
   "metadata": {},
   "source": [
    "documentação do replace: https://docs.python.org/3/library/stdtypes.html\n",
    "\n",
    "```python  \n",
    "\n",
    "str.replace(old, new[, count])\n",
    "\n",
    "\n",
    "Return a copy of the string with all occurrences of substring old replaced by new. If the optional argument count is given, only the first count occurrences are replaced.\n",
    "\n",
    "```"
   ]
  },
  {
   "cell_type": "code",
   "execution_count": 51,
   "metadata": {},
   "outputs": [
    {
     "name": "stdout",
     "output_type": "stream",
     "text": [
      "16/Novembro/2022\n"
     ]
    },
    {
     "data": {
      "text/plain": [
       "'16/Novembro/022'"
      ]
     },
     "execution_count": 51,
     "metadata": {},
     "output_type": "execute_result"
    }
   ],
   "source": [
    "print(nova_data)\n",
    "\n",
    "nova_data.replace('2', '', 1) # substituir o valor 2 na 1ª ocorrência"
   ]
  },
  {
   "cell_type": "markdown",
   "metadata": {},
   "source": [
    "## Concatenar strings em uma coleção (unir letras)"
   ]
  },
  {
   "cell_type": "code",
   "execution_count": 53,
   "metadata": {},
   "outputs": [
    {
     "name": "stdout",
     "output_type": "stream",
     "text": [
      "QuErO mOsTrar UMA frase\n",
      "['Q', 'u', 'E', 'r', 'O', ' ', 'm', 'O', 's', 'T', 'r', 'a', 'r', ' ', 'U', 'M', 'A', ' ', 'f', 'r', 'a', 's', 'e']\n"
     ]
    }
   ],
   "source": [
    "# Relembrando\n",
    "print(frase)\n",
    "# transformar uma string em lista\n",
    "\n",
    "print(list(frase))"
   ]
  },
  {
   "cell_type": "code",
   "execution_count": 55,
   "metadata": {},
   "outputs": [
    {
     "data": {
      "text/plain": [
       "'abc'"
      ]
     },
     "execution_count": 55,
     "metadata": {},
     "output_type": "execute_result"
    }
   ],
   "source": [
    "# transformar uma lista em string (juntando todas as letras)\n",
    "lista = ['a', 'b', 'c']\n",
    "\n",
    "''.join(lista) # unindo os elementos da lista pelo caracter vazio ('') todas as letras (ou melhor, todos os elementos)"
   ]
  },
  {
   "cell_type": "code",
   "execution_count": 56,
   "metadata": {},
   "outputs": [
    {
     "data": {
      "text/plain": [
       "'a-b-c'"
      ]
     },
     "execution_count": 56,
     "metadata": {},
     "output_type": "execute_result"
    }
   ],
   "source": [
    "'-'.join(lista)"
   ]
  },
  {
   "cell_type": "code",
   "execution_count": 59,
   "metadata": {},
   "outputs": [
    {
     "name": "stdout",
     "output_type": "stream",
     "text": [
      "['16', '11', '2022']\n"
     ]
    },
    {
     "data": {
      "text/plain": [
       "'16/11/2022'"
      ]
     },
     "execution_count": 59,
     "metadata": {},
     "output_type": "execute_result"
    }
   ],
   "source": [
    "print(lista_data)\n",
    "\n",
    "'/'.join(lista_data)"
   ]
  },
  {
   "cell_type": "code",
   "execution_count": 60,
   "metadata": {},
   "outputs": [
    {
     "data": {
      "text/plain": [
       "'1texto2'"
      ]
     },
     "execution_count": 60,
     "metadata": {},
     "output_type": "execute_result"
    }
   ],
   "source": [
    "'texto'.join(['1','2']) # o join é método de string"
   ]
  },
  {
   "cell_type": "code",
   "execution_count": 62,
   "metadata": {},
   "outputs": [
    {
     "data": {
      "text/plain": [
       "'a123b123c'"
      ]
     },
     "execution_count": 62,
     "metadata": {},
     "output_type": "execute_result"
    }
   ],
   "source": [
    "lista = ['a', 'b', 'c']\n",
    "separador = '123'\n",
    "\n",
    "resultado = separador.join(lista) # contrário do split()\n",
    "\n",
    "resultado"
   ]
  },
  {
   "cell_type": "markdown",
   "metadata": {},
   "source": [
    "lista é lista  \n",
    "separador é uma string  \n",
    "resultado é uma string  \n",
    "\n",
    ".join(lista) --> transforma uma lista em uma string"
   ]
  },
  {
   "cell_type": "markdown",
   "metadata": {},
   "source": [
    "O join não funciona apenas com lista mas sim com qualquer objeto iterável\n",
    "\n",
    "```python\n",
    "\n",
    "str.join(iterable)\n",
    "\n",
    "Return a string which is the concatenation of the strings in iterable. A TypeError will be raised if there are any non-string values in iterable, including bytes objects. The separator between elements is the string providing this method.\n",
    "```"
   ]
  },
  {
   "cell_type": "markdown",
   "metadata": {},
   "source": [
    "## Formatando strings"
   ]
  },
  {
   "cell_type": "markdown",
   "metadata": {},
   "source": [
    "    Eu, __, portador do CPF ___, residente no endereço _____ autorizo o procedimento."
   ]
  },
  {
   "cell_type": "code",
   "execution_count": 64,
   "metadata": {},
   "outputs": [],
   "source": [
    "nome = 'João da Silva'\n",
    "cpf = '123.456.789-00'\n",
    "endereco = 'Av Brigadeiro Faria Lima, 1306'"
   ]
  },
  {
   "cell_type": "markdown",
   "metadata": {},
   "source": [
    "- Usando o .format()"
   ]
  },
  {
   "cell_type": "code",
   "execution_count": 65,
   "metadata": {},
   "outputs": [],
   "source": [
    "contrato = 'Eu {}, portador do CPF nº {}, residente no endereço {} autorizo o procedimento'"
   ]
  },
  {
   "cell_type": "code",
   "execution_count": 66,
   "metadata": {},
   "outputs": [
    {
     "data": {
      "text/plain": [
       "'Eu João da Silva, portador do CPF nº 123.456.789-00, residente no endereço Av Brigadeiro Faria Lima, 1306 autorizo o procedimento'"
      ]
     },
     "execution_count": 66,
     "metadata": {},
     "output_type": "execute_result"
    }
   ],
   "source": [
    "contrato.format(nome,cpf, endereco)"
   ]
  },
  {
   "cell_type": "markdown",
   "metadata": {},
   "source": [
    "- Usando o f-string"
   ]
  },
  {
   "cell_type": "code",
   "execution_count": 67,
   "metadata": {},
   "outputs": [
    {
     "data": {
      "text/plain": [
       "'Eu João da Silva, portador do CPF nº 123.456.789-00, residente no endereço Av Brigadeiro Faria Lima, 1306 autorizo o procedimento'"
      ]
     },
     "execution_count": 67,
     "metadata": {},
     "output_type": "execute_result"
    }
   ],
   "source": [
    "contrato = f'Eu {nome}, portador do CPF nº {cpf}, residente no endereço {endereco} autorizo o procedimento'\n",
    "contrato"
   ]
  },
  {
   "cell_type": "code",
   "execution_count": 68,
   "metadata": {},
   "outputs": [
    {
     "data": {
      "text/plain": [
       "'01/02/2022'"
      ]
     },
     "execution_count": 68,
     "metadata": {},
     "output_type": "execute_result"
    }
   ],
   "source": [
    "dia = 1\n",
    "mes = 2\n",
    "ano = 2022\n",
    "\n",
    "'01/02/2022' # formato que queremos"
   ]
  },
  {
   "cell_type": "code",
   "execution_count": 69,
   "metadata": {},
   "outputs": [
    {
     "data": {
      "text/plain": [
       "'1/2/2022'"
      ]
     },
     "execution_count": 69,
     "metadata": {},
     "output_type": "execute_result"
    }
   ],
   "source": [
    "f'{dia}/{mes}/{ano}'"
   ]
  },
  {
   "cell_type": "code",
   "execution_count": 72,
   "metadata": {},
   "outputs": [
    {
     "name": "stdout",
     "output_type": "stream",
     "text": [
      "01/02/2022\n"
     ]
    }
   ],
   "source": [
    "# dica: zfill --> string\n",
    "\n",
    "str(dia).zfill(2)\n",
    "\n",
    "print(str(dia).zfill(2) + '/' + str(mes).zfill(2) + '/' + str(ano))"
   ]
  },
  {
   "cell_type": "code",
   "execution_count": 73,
   "metadata": {},
   "outputs": [
    {
     "name": "stdout",
     "output_type": "stream",
     "text": [
      "01/02/2022\n"
     ]
    }
   ],
   "source": [
    "# outra forma de resolver\n",
    "data = '{:02d}/{:02d}/{:04d}'.format(dia, mes, ano)\n",
    "print(data)\n",
    "\n",
    "# : passaremos opçoes\n",
    "# d nº inteiro em base decimal (0 a 9)\n",
    "# 2 e 4 casas\n",
    "# 0 se faltar dígito, completa com zero"
   ]
  },
  {
   "cell_type": "code",
   "execution_count": 74,
   "metadata": {},
   "outputs": [
    {
     "name": "stdout",
     "output_type": "stream",
     "text": [
      "154.403\n",
      "R$ 154.40\n"
     ]
    }
   ],
   "source": [
    "precoLitro = 5.234\n",
    "litros = 29.5\n",
    "total = precoLitro * litros\n",
    "print(total) # resultado: 154.403\n",
    "\n",
    "precoFinal = 'R$ {:.2f}'.format(total)\n",
    "print(precoFinal) # resultado: R$ 154.40\n",
    "\n",
    "# : vou passar opções\n",
    "# .2 2 casas decimais _ arredonda o valor\n",
    "# f float = valor decimal"
   ]
  },
  {
   "cell_type": "markdown",
   "metadata": {},
   "source": [
    "O format possui tantas opções diferentes que existe um site inteiro dedicado a explicar e dar exemplos: https://pyformat.info/"
   ]
  },
  {
   "cell_type": "code",
   "execution_count": 75,
   "metadata": {},
   "outputs": [
    {
     "name": "stdout",
     "output_type": "stream",
     "text": [
      "154.403\n",
      "R$ 154.4\n"
     ]
    }
   ],
   "source": [
    "precoLitro = 5.234\n",
    "litros = 29.5\n",
    "total = precoLitro * litros\n",
    "print(total) # resultado: 154.403\n",
    "\n",
    "precoFinal = 'R$ {}'.format(round(total,2)) #arrendondando o valor\n",
    "print(precoFinal) # resultado: R$ 154.40\n",
    "\n",
    "# : vou passar opções\n",
    "# .2 2 casas decimais _ arredonda o valor\n",
    "# f float = valor decimal"
   ]
  },
  {
   "cell_type": "markdown",
   "metadata": {},
   "source": [
    "# List Comprehension (compreensão de listas)"
   ]
  },
  {
   "cell_type": "code",
   "execution_count": 76,
   "metadata": {},
   "outputs": [
    {
     "name": "stdout",
     "output_type": "stream",
     "text": [
      "[0, 1, 4, 9, 16, 25, 36, 49, 64, 81]\n"
     ]
    }
   ],
   "source": [
    "# quero uma lista com o cálculo do quadrado dos valores de 0 a 9\n",
    "\n",
    "lista_quadrados = []\n",
    "\n",
    "for i in range(10):\n",
    "    lista_quadrados.append(i * i)\n",
    "    \n",
    "print(lista_quadrados)"
   ]
  },
  {
   "cell_type": "code",
   "execution_count": 77,
   "metadata": {},
   "outputs": [
    {
     "data": {
      "text/plain": [
       "[0, 1, 4, 9, 16, 25, 36, 49, 64, 81]"
      ]
     },
     "execution_count": 77,
     "metadata": {},
     "output_type": "execute_result"
    }
   ],
   "source": [
    "lista_quadrados_2 = [ i * i for i in range(10) ]\n",
    "lista_quadrados_2"
   ]
  },
  {
   "cell_type": "markdown",
   "metadata": {},
   "source": [
    "[ expressão for(para) cada elemento iterável]"
   ]
  },
  {
   "cell_type": "markdown",
   "metadata": {},
   "source": [
    "for i in range(10):\n",
    "    if\n",
    "        i * i\n",
    "    else"
   ]
  }
 ],
 "metadata": {
  "kernelspec": {
   "display_name": "Python 3.9.7 ('base')",
   "language": "python",
   "name": "python3"
  },
  "language_info": {
   "codemirror_mode": {
    "name": "ipython",
    "version": 3
   },
   "file_extension": ".py",
   "mimetype": "text/x-python",
   "name": "python",
   "nbconvert_exporter": "python",
   "pygments_lexer": "ipython3",
   "version": "3.9.7"
  },
  "orig_nbformat": 4,
  "vscode": {
   "interpreter": {
    "hash": "5c66de18c091297d67c9a295278ca9503b5163a383fa85591c3cdb6daec33020"
   }
  }
 },
 "nbformat": 4,
 "nbformat_minor": 2
}
