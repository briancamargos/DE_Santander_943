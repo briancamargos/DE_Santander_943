{
 "cells": [
  {
   "cell_type": "markdown",
   "metadata": {},
   "source": [
    "# Planejamento"
   ]
  },
  {
   "cell_type": "markdown",
   "metadata": {},
   "source": [
    "| Segunda | Terça      | Quarta  | Quinta | Sexta              | Sábado | Domingo         |\n",
    "|---------|------------|---------|--------|--------------------|--------|-----------------|\n",
    "|         |            | 16      |        | 18                 |        |                 |\n",
    "|         |            | string  |        | funções            |        |                 |\n",
    "| 21      | 22 (reposição)| 23      |        | 25                 |        | 27              |\n",
    "| import  | exercícios | sistema |        | exercícios/dúvidas |        | entrega projeto |"
   ]
  },
  {
   "cell_type": "markdown",
   "metadata": {},
   "source": []
  }
 ],
 "metadata": {
  "kernelspec": {
   "display_name": "Python 3.9.7 ('base')",
   "language": "python",
   "name": "python3"
  },
  "language_info": {
   "name": "python",
   "version": "3.9.7"
  },
  "orig_nbformat": 4,
  "vscode": {
   "interpreter": {
    "hash": "5c66de18c091297d67c9a295278ca9503b5163a383fa85591c3cdb6daec33020"
   }
  }
 },
 "nbformat": 4,
 "nbformat_minor": 2
}
