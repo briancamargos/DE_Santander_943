{
 "cells": [
  {
   "cell_type": "markdown",
   "metadata": {},
   "source": [
    "# Exercícios"
   ]
  },
  {
   "cell_type": "markdown",
   "metadata": {},
   "source": [
    "Monitoria:\n",
    "\n",
    "- 22/11 - 19h\n",
    "- 29/11 - 19h\n",
    "- 06/12 - 19h\n",
    "- 13/12 - 19h\n",
    "\n",
    "Prof Alex: alexlimacavalera@gmail.com\n",
    "\n",
    "Dúvidas: https://docs.google.com/forms/d/e/1FAIpQLSdRDDMJz_wqlr1HhVxNsyvfPCjxkupcMcKFRvmnVxZcURu0yg/viewform\n"
   ]
  },
  {
   "cell_type": "markdown",
   "metadata": {},
   "source": [
    "# Lista 1\n",
    "\n",
    "Desafios ok - aula"
   ]
  },
  {
   "cell_type": "markdown",
   "metadata": {},
   "source": [
    "# Lista 2"
   ]
  },
  {
   "cell_type": "code",
   "execution_count": 19,
   "metadata": {},
   "outputs": [
    {
     "name": "stdout",
     "output_type": "stream",
     "text": [
      "O maior número é 5\n"
     ]
    }
   ],
   "source": [
    "\n",
    "\n",
    "# Lista 2 - Desafio\n",
    "\n",
    "# Desafio 1. Faça um programa que leia 3 números e informe o maior deles.\n",
    "\n",
    "numero1 = int(input('Digite um número: '))\n",
    "numero2 = int(input('Digite um número: '))\n",
    "numero3 = int(input('Digite um número: '))\n",
    "\n",
    "if numero1 > numero2:\n",
    "    if numero1 > numero3:\n",
    "        print(f'O maior número é {numero1}')\n",
    "    else:\n",
    "        print(f'O maior valor é o {numero3}')\n",
    "else:\n",
    "    if numero2 > numero3:\n",
    "        print(f'O maior número é {numero2}')\n",
    "    else:\n",
    "        print(f'O maior número é o {numero3}')\n"
   ]
  },
  {
   "cell_type": "code",
   "execution_count": 3,
   "metadata": {},
   "outputs": [],
   "source": [
    "# Dúvida.. Digitar 3 números na mesma chamada / entrada\n",
    "\n",
    "num = input('Digite 3 números separados por espaço: ')"
   ]
  },
  {
   "cell_type": "code",
   "execution_count": 2,
   "metadata": {},
   "outputs": [
    {
     "data": {
      "text/plain": [
       "'2 4 6'"
      ]
     },
     "execution_count": 2,
     "metadata": {},
     "output_type": "execute_result"
    }
   ],
   "source": [
    "num # string -> separar por espaço"
   ]
  },
  {
   "cell_type": "code",
   "execution_count": 6,
   "metadata": {},
   "outputs": [
    {
     "data": {
      "text/plain": [
       "['2', '4', '6']"
      ]
     },
     "execution_count": 6,
     "metadata": {},
     "output_type": "execute_result"
    }
   ],
   "source": [
    "num_lista = num.split() # Split separa por espaço (ou outro caracter que define dentro de slipt) e transforma em lista\n",
    "num_lista"
   ]
  },
  {
   "cell_type": "code",
   "execution_count": 13,
   "metadata": {},
   "outputs": [
    {
     "name": "stdout",
     "output_type": "stream",
     "text": [
      "[2.0, 4.0, 6.0]\n",
      "O maior valor é: 6.0\n"
     ]
    }
   ],
   "source": [
    "# A lista acima contém elementos do tipo string -> converter em int/float\n",
    "\n",
    "# percorrer a lista e transformar cada elemento\n",
    "num_lista_nova = []\n",
    "for item in num_lista:\n",
    "    num_lista_nova.append(float(item))\n",
    "    \n",
    "print(num_lista_nova) # Lista com elementos numéricos\n",
    "\n",
    "# Funções de lista para determinar qual é o maior\n",
    "\n",
    "print(f'O maior valor é: {max(num_lista_nova)}')\n",
    "    "
   ]
  },
  {
   "cell_type": "code",
   "execution_count": 16,
   "metadata": {},
   "outputs": [
    {
     "name": "stdout",
     "output_type": "stream",
     "text": [
      "['2', '4', '6']\n",
      "[2.0, 4.0, 6.0]\n"
     ]
    }
   ],
   "source": [
    "print(num_lista) # lista com elementos em string\n",
    "\n",
    "# Alternativa\n",
    "for i in range(len(num_lista)):\n",
    "    num_lista[i] = float(num_lista[i]) # alterando o valor na posição da lista de forma direta pq lista é mutável\n",
    "    \n",
    "print(num_lista)\n",
    "\n",
    "# Funções de lista para determinar qual é o maior\n",
    "\n",
    "print(f'O maior valor é: {max(num_lista_nova)}')\n",
    "    "
   ]
  },
  {
   "cell_type": "code",
   "execution_count": 20,
   "metadata": {},
   "outputs": [
    {
     "name": "stdout",
     "output_type": "stream",
     "text": [
      "[3, 5, 10, 5]\n",
      "O maior valor é 10\n"
     ]
    }
   ],
   "source": [
    "# Desafio 2. Faça o mesmo programa do exercício anterior, porém com 4 números.\n",
    "\n",
    "numero1 = int(input('Digite um número: '))\n",
    "numero2 = int(input('Digite um número: '))\n",
    "numero3 = int(input('Digite um número: '))\n",
    "numero4 = int(input('Digite um número: '))\n",
    "\n",
    "lista_numeros = []\n",
    "lista_numeros.append(numero1)\n",
    "lista_numeros.append(numero2)\n",
    "lista_numeros.append(numero3)\n",
    "lista_numeros.append(numero4)\n",
    "\n",
    "print(lista_numeros)\n",
    "\n",
    "print(f'O maior valor é {max(lista_numeros)}')"
   ]
  },
  {
   "cell_type": "code",
   "execution_count": 26,
   "metadata": {},
   "outputs": [
    {
     "name": "stdout",
     "output_type": "stream",
     "text": [
      "Dengue\n"
     ]
    }
   ],
   "source": [
    "# Desafio 3. Um hospital quer fazer o diagnóstico de gripe ou dengue a partir de um questionário de sintomas.\n",
    "\n",
    "A = input(\"Sente dor no corpo? \").lower()\n",
    "B = input(\"Você tem febre? \").lower()\n",
    "C = input(\"Você tem tosse? \").lower()\n",
    "D = input(\"Está com congestão nasal? \").lower()\n",
    "E = input(\"Tem manchas pelo corpo? \").lower()\n",
    "\n",
    "# Uma das formas de resolver o problema:\n",
    "if B == 'não' and C == 'não' and D == 'não' and E == 'não':\n",
    "    print(\"Sem doenças\")\n",
    "elif B == 'sim' and C == 'sim' and D == 'sim' and E == 'não':\n",
    "    print(\"Gripe\")\n",
    "elif A == 'sim' and B == 'sim' and C == 'não' and D == 'não' and E == 'sim':\n",
    "    print(\"Dengue\")\n",
    "else:\n",
    "    print(\"Sem diagnóstico possível\")"
   ]
  },
  {
   "cell_type": "markdown",
   "metadata": {},
   "source": [
    "# Lista 3"
   ]
  },
  {
   "cell_type": "code",
   "execution_count": 27,
   "metadata": {},
   "outputs": [
    {
     "name": "stdout",
     "output_type": "stream",
     "text": [
      "Como esperado, essa soma converge para 2.0\n"
     ]
    }
   ],
   "source": [
    "# Calcule a soma de até mil termos da série 1 + 1/2 + 1/4 + 1/8 + 1/16 + ... \n",
    "\n",
    "contador = 0\n",
    "soma = 0 # ou soma = 1 (se considerar o primeiro termo)\n",
    "termo = 1\n",
    "\n",
    "while contador < 1000:\n",
    "    soma += termo\n",
    "    termo /= 2 # termo = termo / 2\n",
    "    contador += 1\n",
    "    \n",
    "print(f'Como esperado, essa soma converge para {soma}')"
   ]
  },
  {
   "cell_type": "code",
   "execution_count": 28,
   "metadata": {},
   "outputs": [
    {
     "name": "stdout",
     "output_type": "stream",
     "text": [
      "Como esperado, essa soma converge para 1.7182818284590455\n"
     ]
    }
   ],
   "source": [
    "#  Calcule a soma de mil termos dos inversos dos fatoriais: 1/(1!) + 1/(2!) + 1/(3!) + 1/(4!) + ...\n",
    "\n",
    "contador = 1\n",
    "soma = 0\n",
    "termo = 1\n",
    "\n",
    "while contador < 1000:\n",
    "    termo /= contador # Se dividirmos pelo contador, formamos o fatorial até aquele termo\n",
    "    soma += termo # soma o termo atual\n",
    "    contador += 1\n",
    "\n",
    "print(f'Como esperado, essa soma converge para {soma}')"
   ]
  },
  {
   "cell_type": "markdown",
   "metadata": {},
   "source": [
    "# Lista 4"
   ]
  },
  {
   "cell_type": "code",
   "execution_count": 31,
   "metadata": {},
   "outputs": [
    {
     "name": "stdout",
     "output_type": "stream",
     "text": [
      "['Michael', 28, [8.0, 7.0, 5.0, 6.0], 6.5, True]\n"
     ]
    }
   ],
   "source": [
    "# Desafio 1. Faça um programa que peça para o usuário digitar o nome e a idade de um aluno e o número de provas que esse aluno fez. Depois, o programa deve pedir para o usuário digitar as notas de cada prova do aluno. Ao final o programa deve imprimir uma lista contendo:\n",
    "# a.  Nome do aluno na posição 0\n",
    "# b.  Idade do aluno na posição 1\n",
    "# c.  Uma lista com todas as notas na posição 2 \n",
    "# d.  A média do aluno na posição 3\n",
    "# e.  True ou False, caso a média seja maior que 5 ou não, na posição 4\n",
    "\n",
    "nome = input('Digite o nome do aluno: ')\n",
    "idade = int(input('Digite a idade do aluno: '))\n",
    "n_provas = int(input('Digite o número de provas: '))\n",
    "\n",
    "lista_notas = []\n",
    "for i in range(n_provas):\n",
    "    nota = float(input('Digite a nota da prova: '))\n",
    "    lista_notas.append(nota)\n",
    "\n",
    "media = sum(lista_notas)/len(lista_notas) \n",
    "\n",
    "aprovado = media > 5\n",
    "\n",
    "print([nome, idade, lista_notas, media, aprovado])\n",
    "\n"
   ]
  },
  {
   "cell_type": "code",
   "execution_count": 32,
   "metadata": {},
   "outputs": [
    {
     "name": "stdout",
     "output_type": "stream",
     "text": [
      "['Daiane', 21, [10.0, 0.0, 7.5, 9.0], 8.25, True]\n"
     ]
    }
   ],
   "source": [
    "# Desafio 2. Faça um programa como o do item anterior, porém que imprima a média sem considerar a maior e menor nota do aluno (nesse caso o número de provas precisa ser obrigatoriamente maior que dois).\n",
    "\n",
    "nome = input('Digite o nome do aluno: ')\n",
    "idade = int(input('Digite a idade do aluno: '))\n",
    "n_provas = int(input('Digite o número de provas: '))\n",
    "\n",
    "lista_notas = []\n",
    "for i in range(n_provas):\n",
    "    nota = float(input('Digite a nota da prova: '))\n",
    "    lista_notas.append(nota)\n",
    "\n",
    "lista_notas_nova = lista_notas[:] # copiando a lista em outra variável de lista ou .copy\n",
    "\n",
    "lista_notas_nova.remove(max(lista_notas_nova))\n",
    "lista_notas_nova.remove(min(lista_notas_nova))\n",
    "\n",
    "media = sum(lista_notas_nova)/len(lista_notas_nova) \n",
    "\n",
    "aprovado = media > 5\n",
    "\n",
    "print([nome, idade, lista_notas, media, aprovado])"
   ]
  },
  {
   "cell_type": "code",
   "execution_count": 46,
   "metadata": {},
   "outputs": [
    {
     "name": "stdout",
     "output_type": "stream",
     "text": [
      "CPF inválido\n"
     ]
    }
   ],
   "source": [
    "# Desafio 3. Faça um programa que pede para o usuário digitar o CPF e verifica se ele é válido. \n",
    "\n",
    "CPF = list(input('Digite seu CPF (apenas dígitos): '))\n",
    "\n",
    "for i in range(len(CPF)):\n",
    "    CPF[i] = int(CPF[i])\n",
    "    \n",
    "soma = 0\n",
    "\n",
    "for i in range(9):\n",
    "    soma = soma + CPF[i]*(10-i)\n",
    "\n",
    "if soma * 10 % 11 == CPF[-2]: # ou CPF[9]\n",
    "    soma = 0\n",
    "    for i in range(10):\n",
    "        soma = soma + CPF[i]*(11-i)\n",
    "    if soma * 10 % 11 == CPF[-1]: # último valor ou CPF[10]\n",
    "        print('CPF válido')\n",
    "    else:\n",
    "        print('CPF inválido')\n",
    "    \n",
    "else:\n",
    "    print('CPF inválido')\n",
    "    "
   ]
  },
  {
   "cell_type": "markdown",
   "metadata": {},
   "source": [
    "# Lista 5"
   ]
  },
  {
   "cell_type": "code",
   "execution_count": null,
   "metadata": {},
   "outputs": [],
   "source": [
    "# Desafio 1.  Faça uma função que receba uma string e uma letra e:\n",
    "# a.  imprima quantas vezes a letra aparece na string;\n",
    "# b.  imprima todas as posições em que a letra aparece na string;\n",
    "# c.  retorne a distância entre a primeira e a última aparição dessa letra na string.\n",
    "\n",
    "def desafio(texto, letra):\n",
    "    qtd = 0\n",
    "    posicoes = []\n",
    "    \n",
    "    \n",
    "    "
   ]
  },
  {
   "cell_type": "code",
   "execution_count": 53,
   "metadata": {},
   "outputs": [
    {
     "name": "stdout",
     "output_type": "stream",
     "text": [
      "2\n",
      "[0, 3]\n"
     ]
    }
   ],
   "source": [
    "texto = 'texto'\n",
    "letra = 't' \n",
    "\n",
    "qtd = 0\n",
    "posicao = []\n",
    "for i in range(len(texto)):\n",
    "    if texto[i] == letra:\n",
    "        qtd += 1\n",
    "        posicao.append(i)\n",
    "    \n",
    "print(qtd)    \n",
    "print(posicao)"
   ]
  },
  {
   "cell_type": "code",
   "execution_count": 50,
   "metadata": {},
   "outputs": [
    {
     "data": {
      "text/plain": [
       "'x'"
      ]
     },
     "execution_count": 50,
     "metadata": {},
     "output_type": "execute_result"
    }
   ],
   "source": [
    "texto[2]"
   ]
  },
  {
   "cell_type": "markdown",
   "metadata": {},
   "source": [
    "# Lista 6"
   ]
  },
  {
   "cell_type": "code",
   "execution_count": null,
   "metadata": {},
   "outputs": [],
   "source": []
  }
 ],
 "metadata": {
  "kernelspec": {
   "display_name": "Python 3.9.7 ('base')",
   "language": "python",
   "name": "python3"
  },
  "language_info": {
   "codemirror_mode": {
    "name": "ipython",
    "version": 3
   },
   "file_extension": ".py",
   "mimetype": "text/x-python",
   "name": "python",
   "nbconvert_exporter": "python",
   "pygments_lexer": "ipython3",
   "version": "3.9.7"
  },
  "orig_nbformat": 4,
  "vscode": {
   "interpreter": {
    "hash": "5c66de18c091297d67c9a295278ca9503b5163a383fa85591c3cdb6daec33020"
   }
  }
 },
 "nbformat": 4,
 "nbformat_minor": 2
}
