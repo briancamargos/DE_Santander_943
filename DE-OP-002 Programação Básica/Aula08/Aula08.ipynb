{
 "cells": [
  {
   "cell_type": "markdown",
   "metadata": {},
   "source": [
    "# Tuplas e dicionários"
   ]
  },
  {
   "cell_type": "markdown",
   "metadata": {},
   "source": [
    "Revisão de Listas\n",
    "\n",
    "Características das listas:\n",
    "\n",
    "- É mutável (alterar os elementos)\n",
    "- É indexável (podemos acessar os elementos pelo índice)\n",
    "- É iterável (percorrer utilizando o for)\n",
    "- Guarda elementos de tipos diferentes\n",
    "\n",
    "## Tuplas\n",
    "\n",
    "Características:\n",
    "- Guardar diferentes tipos de dados (int, str, float)\n",
    "- É indexável \n",
    "- É iterável\n",
    "- É imutável\n",
    "\n",
    "**Quando usar as tuplas?**\n",
    "\n",
    "Quando tivermos, no nosso código, uma sequência que não muda NUNCA, ou seja, imutável"
   ]
  },
  {
   "cell_type": "code",
   "execution_count": 6,
   "metadata": {},
   "outputs": [
    {
     "name": "stdout",
     "output_type": "stream",
     "text": [
      "(1, 2.9, 'palavra', True)\n"
     ]
    }
   ],
   "source": [
    "# Declarando uma tupla\n",
    "\n",
    "minha_tupla = (1, 2.9, 'palavra', True)\n",
    "\n",
    "print(minha_tupla)"
   ]
  },
  {
   "cell_type": "code",
   "execution_count": 7,
   "metadata": {},
   "outputs": [
    {
     "data": {
      "text/plain": [
       "tuple"
      ]
     },
     "execution_count": 7,
     "metadata": {},
     "output_type": "execute_result"
    }
   ],
   "source": [
    "type(minha_tupla)"
   ]
  },
  {
   "cell_type": "code",
   "execution_count": 10,
   "metadata": {},
   "outputs": [],
   "source": [
    "minha_tupla = 1 ,2.9, 'palavra', True"
   ]
  },
  {
   "cell_type": "code",
   "execution_count": 11,
   "metadata": {},
   "outputs": [
    {
     "data": {
      "text/plain": [
       "tuple"
      ]
     },
     "execution_count": 11,
     "metadata": {},
     "output_type": "execute_result"
    }
   ],
   "source": [
    "type(minha_tupla)"
   ]
  },
  {
   "cell_type": "code",
   "execution_count": 15,
   "metadata": {},
   "outputs": [],
   "source": [
    "# Olha que interessante\n",
    "def funcao(a,b):\n",
    "    return a, b"
   ]
  },
  {
   "cell_type": "code",
   "execution_count": 16,
   "metadata": {},
   "outputs": [
    {
     "data": {
      "text/plain": [
       "(10, 4)"
      ]
     },
     "execution_count": 16,
     "metadata": {},
     "output_type": "execute_result"
    }
   ],
   "source": [
    "funcao(10, 4)"
   ]
  },
  {
   "cell_type": "code",
   "execution_count": 18,
   "metadata": {},
   "outputs": [
    {
     "name": "stdout",
     "output_type": "stream",
     "text": [
      "10 4\n"
     ]
    }
   ],
   "source": [
    "var1, var2 = funcao(10, 4)\n",
    "print(var1, var2)"
   ]
  },
  {
   "cell_type": "code",
   "execution_count": 19,
   "metadata": {},
   "outputs": [
    {
     "data": {
      "text/plain": [
       "1"
      ]
     },
     "execution_count": 19,
     "metadata": {},
     "output_type": "execute_result"
    }
   ],
   "source": [
    "# Acessar os elementos de uma tupla\n",
    "\n",
    "minha_tupla[0]"
   ]
  },
  {
   "cell_type": "code",
   "execution_count": 20,
   "metadata": {},
   "outputs": [
    {
     "data": {
      "text/plain": [
       "'palavra'"
      ]
     },
     "execution_count": 20,
     "metadata": {},
     "output_type": "execute_result"
    }
   ],
   "source": [
    "minha_tupla[2]"
   ]
  },
  {
   "cell_type": "code",
   "execution_count": 21,
   "metadata": {},
   "outputs": [
    {
     "ename": "TypeError",
     "evalue": "'tuple' object does not support item assignment",
     "output_type": "error",
     "traceback": [
      "\u001b[1;31m---------------------------------------------------------------------------\u001b[0m",
      "\u001b[1;31mTypeError\u001b[0m                                 Traceback (most recent call last)",
      "\u001b[1;32m~\\AppData\\Local\\Temp/ipykernel_82152/3831051562.py\u001b[0m in \u001b[0;36m<module>\u001b[1;34m\u001b[0m\n\u001b[0;32m      1\u001b[0m \u001b[1;31m# Alterar o elemento da tupla\u001b[0m\u001b[1;33m\u001b[0m\u001b[1;33m\u001b[0m\u001b[0m\n\u001b[1;32m----> 2\u001b[1;33m \u001b[0mminha_tupla\u001b[0m\u001b[1;33m[\u001b[0m\u001b[1;36m0\u001b[0m\u001b[1;33m]\u001b[0m \u001b[1;33m=\u001b[0m \u001b[1;36m2\u001b[0m\u001b[1;33m\u001b[0m\u001b[1;33m\u001b[0m\u001b[0m\n\u001b[0m",
      "\u001b[1;31mTypeError\u001b[0m: 'tuple' object does not support item assignment"
     ]
    }
   ],
   "source": [
    "# Alterar o elemento da tupla ---> Tupla IMUTÁVEL\n",
    "minha_tupla[0] = 2"
   ]
  },
  {
   "cell_type": "code",
   "execution_count": null,
   "metadata": {},
   "outputs": [],
   "source": [
    "# E se eu precisar mudar a tupla?\n"
   ]
  },
  {
   "cell_type": "markdown",
   "metadata": {},
   "source": [
    "Supermercado:\n",
    "- Pasta de dente\n",
    "- Papel higiênico\n",
    "- Bolacha\n",
    "- Sabão em pó\n",
    "- Carne"
   ]
  },
  {
   "cell_type": "code",
   "execution_count": 22,
   "metadata": {},
   "outputs": [],
   "source": [
    "meus_produtos = ('Pasta de dente', 'Papel higiênico', 'Bolacha', 'Sabão em pó', 'Carne')"
   ]
  },
  {
   "cell_type": "code",
   "execution_count": 23,
   "metadata": {},
   "outputs": [
    {
     "data": {
      "text/plain": [
       "('Pasta de dente', 'Papel higiênico', 'Bolacha', 'Sabão em pó', 'Carne')"
      ]
     },
     "execution_count": 23,
     "metadata": {},
     "output_type": "execute_result"
    }
   ],
   "source": [
    "meus_produtos"
   ]
  },
  {
   "cell_type": "markdown",
   "metadata": {},
   "source": [
    "Com a pandemia preciso adicionar mais produtos"
   ]
  },
  {
   "cell_type": "code",
   "execution_count": 24,
   "metadata": {},
   "outputs": [
    {
     "data": {
      "text/plain": [
       "list"
      ]
     },
     "execution_count": 24,
     "metadata": {},
     "output_type": "execute_result"
    }
   ],
   "source": [
    "meus_produtos = list(meus_produtos) #transformar em uma lista\n",
    "\n",
    "type(meus_produtos)"
   ]
  },
  {
   "cell_type": "code",
   "execution_count": 25,
   "metadata": {},
   "outputs": [
    {
     "data": {
      "text/plain": [
       "['Pasta de dente',\n",
       " 'Papel higiênico',\n",
       " 'Bolacha',\n",
       " 'Sabão em pó',\n",
       " 'Carne',\n",
       " 'Shampoo']"
      ]
     },
     "execution_count": 25,
     "metadata": {},
     "output_type": "execute_result"
    }
   ],
   "source": [
    "meus_produtos.append('Shampoo')\n",
    "\n",
    "meus_produtos"
   ]
  },
  {
   "cell_type": "code",
   "execution_count": 26,
   "metadata": {},
   "outputs": [
    {
     "data": {
      "text/plain": [
       "tuple"
      ]
     },
     "execution_count": 26,
     "metadata": {},
     "output_type": "execute_result"
    }
   ],
   "source": [
    "meus_produtos = tuple(meus_produtos) # transformando em tupla\n",
    "\n",
    "type(meus_produtos) "
   ]
  },
  {
   "cell_type": "code",
   "execution_count": 27,
   "metadata": {},
   "outputs": [
    {
     "data": {
      "text/plain": [
       "('Pasta de dente',\n",
       " 'Papel higiênico',\n",
       " 'Bolacha',\n",
       " 'Sabão em pó',\n",
       " 'Carne',\n",
       " 'Shampoo')"
      ]
     },
     "execution_count": 27,
     "metadata": {},
     "output_type": "execute_result"
    }
   ],
   "source": [
    "meus_produtos"
   ]
  },
  {
   "cell_type": "code",
   "execution_count": 28,
   "metadata": {},
   "outputs": [
    {
     "name": "stdout",
     "output_type": "stream",
     "text": [
      "1\n",
      "2.9\n",
      "palavra\n",
      "True\n"
     ]
    }
   ],
   "source": [
    "# Percorrer a tupla\n",
    "\n",
    "for elemento in minha_tupla:\n",
    "    print(elemento)"
   ]
  },
  {
   "cell_type": "code",
   "execution_count": 29,
   "metadata": {},
   "outputs": [],
   "source": [
    "# Tuplas aninhadas\n",
    "\n",
    "minha_tupla = ((1,3,4), 1, [1, 4, 'sim'], True)"
   ]
  },
  {
   "cell_type": "code",
   "execution_count": 30,
   "metadata": {},
   "outputs": [
    {
     "data": {
      "text/plain": [
       "tuple"
      ]
     },
     "execution_count": 30,
     "metadata": {},
     "output_type": "execute_result"
    }
   ],
   "source": [
    "type(minha_tupla)"
   ]
  },
  {
   "cell_type": "code",
   "execution_count": 36,
   "metadata": {},
   "outputs": [],
   "source": [
    "# descompactar uma tupla\n",
    "\n",
    "minha_tupla = (1, 2.9, 'palavra', True)"
   ]
  },
  {
   "cell_type": "code",
   "execution_count": 37,
   "metadata": {},
   "outputs": [
    {
     "name": "stdout",
     "output_type": "stream",
     "text": [
      "1 2.9 palavra True\n"
     ]
    }
   ],
   "source": [
    "var1 = minha_tupla[0]\n",
    "var2 = minha_tupla[1]\n",
    "var3 = minha_tupla[2]\n",
    "var4 = minha_tupla[3]\n",
    "\n",
    "print(var1, var2, var3, var4)"
   ]
  },
  {
   "cell_type": "code",
   "execution_count": 38,
   "metadata": {},
   "outputs": [],
   "source": [
    "var1, var2, var3, var4 = minha_tupla"
   ]
  },
  {
   "cell_type": "code",
   "execution_count": 39,
   "metadata": {},
   "outputs": [],
   "source": [
    "minha_tupla = (1, 2.9, 'palavra', True, 'sim', 2)"
   ]
  },
  {
   "cell_type": "code",
   "execution_count": 43,
   "metadata": {},
   "outputs": [],
   "source": [
    "var1, var2, var3, var4, _, _= minha_tupla"
   ]
  },
  {
   "cell_type": "code",
   "execution_count": 45,
   "metadata": {},
   "outputs": [
    {
     "data": {
      "text/plain": [
       "(1, 2.9, 'palavra', True)"
      ]
     },
     "execution_count": 45,
     "metadata": {},
     "output_type": "execute_result"
    }
   ],
   "source": [
    "minha_tupla[:4] # pegar só os primeiros 4 elementos da tupla"
   ]
  },
  {
   "cell_type": "markdown",
   "metadata": {},
   "source": [
    "### Funções e métodos das tuplas\n",
    "\n",
    "Funções de listas que alteram a lista (var), não funcionam em tuplas"
   ]
  },
  {
   "cell_type": "code",
   "execution_count": 47,
   "metadata": {},
   "outputs": [
    {
     "name": "stdout",
     "output_type": "stream",
     "text": [
      "[1, 2, 3, 4]\n"
     ]
    }
   ],
   "source": [
    "lista = [1,2,3]\n",
    "lista.append(4) # Altera a lista\n",
    "\n",
    "print(lista)"
   ]
  },
  {
   "cell_type": "code",
   "execution_count": 48,
   "metadata": {},
   "outputs": [
    {
     "ename": "AttributeError",
     "evalue": "'tuple' object has no attribute 'append'",
     "output_type": "error",
     "traceback": [
      "\u001b[1;31m---------------------------------------------------------------------------\u001b[0m",
      "\u001b[1;31mAttributeError\u001b[0m                            Traceback (most recent call last)",
      "\u001b[1;32m~\\AppData\\Local\\Temp/ipykernel_82152/1413806915.py\u001b[0m in \u001b[0;36m<module>\u001b[1;34m\u001b[0m\n\u001b[0;32m      1\u001b[0m \u001b[0mtupla\u001b[0m \u001b[1;33m=\u001b[0m \u001b[1;33m(\u001b[0m\u001b[1;36m1\u001b[0m\u001b[1;33m,\u001b[0m\u001b[1;36m2\u001b[0m\u001b[1;33m,\u001b[0m\u001b[1;36m3\u001b[0m\u001b[1;33m)\u001b[0m\u001b[1;33m\u001b[0m\u001b[1;33m\u001b[0m\u001b[0m\n\u001b[1;32m----> 2\u001b[1;33m \u001b[0mtupla\u001b[0m\u001b[1;33m.\u001b[0m\u001b[0mappend\u001b[0m\u001b[1;33m(\u001b[0m\u001b[1;36m4\u001b[0m\u001b[1;33m)\u001b[0m\u001b[1;33m\u001b[0m\u001b[1;33m\u001b[0m\u001b[0m\n\u001b[0m\u001b[0;32m      3\u001b[0m \u001b[1;33m\u001b[0m\u001b[0m\n\u001b[0;32m      4\u001b[0m \u001b[0mprint\u001b[0m\u001b[1;33m(\u001b[0m\u001b[0mtupla\u001b[0m\u001b[1;33m)\u001b[0m\u001b[1;33m\u001b[0m\u001b[1;33m\u001b[0m\u001b[0m\n",
      "\u001b[1;31mAttributeError\u001b[0m: 'tuple' object has no attribute 'append'"
     ]
    }
   ],
   "source": [
    "tupla = (1,2,3)\n",
    "tupla.append(4) # não podemos usar métodos de lista que altera a tupla\n",
    "\n",
    "print(tupla)"
   ]
  },
  {
   "cell_type": "code",
   "execution_count": 50,
   "metadata": {},
   "outputs": [
    {
     "data": {
      "text/plain": [
       "3"
      ]
     },
     "execution_count": 50,
     "metadata": {},
     "output_type": "execute_result"
    }
   ],
   "source": [
    "max(tupla)"
   ]
  },
  {
   "cell_type": "code",
   "execution_count": 51,
   "metadata": {},
   "outputs": [
    {
     "data": {
      "text/plain": [
       "3"
      ]
     },
     "execution_count": 51,
     "metadata": {},
     "output_type": "execute_result"
    }
   ],
   "source": [
    "len(tupla)"
   ]
  },
  {
   "cell_type": "code",
   "execution_count": 54,
   "metadata": {},
   "outputs": [
    {
     "data": {
      "text/plain": [
       "6"
      ]
     },
     "execution_count": 54,
     "metadata": {},
     "output_type": "execute_result"
    }
   ],
   "source": [
    "sum(tupla)"
   ]
  },
  {
   "cell_type": "code",
   "execution_count": 55,
   "metadata": {},
   "outputs": [
    {
     "data": {
      "text/plain": [
       "True"
      ]
     },
     "execution_count": 55,
     "metadata": {},
     "output_type": "execute_result"
    }
   ],
   "source": [
    "3 in tupla"
   ]
  },
  {
   "cell_type": "code",
   "execution_count": 56,
   "metadata": {},
   "outputs": [],
   "source": [
    "minha_tupla = ('string','palavra')"
   ]
  },
  {
   "cell_type": "code",
   "execution_count": 57,
   "metadata": {},
   "outputs": [
    {
     "data": {
      "text/plain": [
       "False"
      ]
     },
     "execution_count": 57,
     "metadata": {},
     "output_type": "execute_result"
    }
   ],
   "source": [
    "'s' in minha_tupla # elemento in iterável"
   ]
  },
  {
   "cell_type": "code",
   "execution_count": 58,
   "metadata": {},
   "outputs": [
    {
     "data": {
      "text/plain": [
       "'string'"
      ]
     },
     "execution_count": 58,
     "metadata": {},
     "output_type": "execute_result"
    }
   ],
   "source": [
    "minha_tupla[0]"
   ]
  },
  {
   "cell_type": "code",
   "execution_count": 59,
   "metadata": {},
   "outputs": [
    {
     "data": {
      "text/plain": [
       "'palavra'"
      ]
     },
     "execution_count": 59,
     "metadata": {},
     "output_type": "execute_result"
    }
   ],
   "source": [
    "minha_tupla[1]"
   ]
  },
  {
   "cell_type": "code",
   "execution_count": 60,
   "metadata": {},
   "outputs": [
    {
     "data": {
      "text/plain": [
       "True"
      ]
     },
     "execution_count": 60,
     "metadata": {},
     "output_type": "execute_result"
    }
   ],
   "source": [
    "'string' in minha_tupla # elemento in iterável"
   ]
  },
  {
   "cell_type": "code",
   "execution_count": 61,
   "metadata": {},
   "outputs": [
    {
     "name": "stdout",
     "output_type": "stream",
     "text": [
      "s existe\n"
     ]
    }
   ],
   "source": [
    "for item in minha_tupla:\n",
    "    if 's' in item:\n",
    "        print('s existe')"
   ]
  },
  {
   "cell_type": "markdown",
   "metadata": {},
   "source": [
    "## Set (conjunto)"
   ]
  },
  {
   "cell_type": "code",
   "execution_count": 93,
   "metadata": {},
   "outputs": [],
   "source": [
    "meu_set = {1,2,3,4}"
   ]
  },
  {
   "cell_type": "code",
   "execution_count": 99,
   "metadata": {},
   "outputs": [
    {
     "name": "stdout",
     "output_type": "stream",
     "text": [
      "{1, 2, 3}\n"
     ]
    }
   ],
   "source": [
    "minha_lista = [1, 1, 3, 2]\n",
    "\n",
    "var1 = set(minha_lista) # imutável, não permite valores iguais e ele ordena\n",
    "\n",
    "print(var1)"
   ]
  },
  {
   "cell_type": "code",
   "execution_count": 100,
   "metadata": {},
   "outputs": [
    {
     "data": {
      "text/plain": [
       "[1, 2, 3]"
      ]
     },
     "execution_count": 100,
     "metadata": {},
     "output_type": "execute_result"
    }
   ],
   "source": [
    "list(var1)"
   ]
  },
  {
   "cell_type": "markdown",
   "metadata": {},
   "source": [
    "## Dicionário"
   ]
  },
  {
   "cell_type": "markdown",
   "metadata": {},
   "source": [
    "Quero criar uma planilha de chamada\n",
    "\n",
    "- So vou usar o primeiro nome do aluno\n",
    "- Ordem alfabética\n",
    "\n",
    "| Nome    | número |\n",
    "|----------|---|\n",
    "| Bruno    | 1 |\n",
    "| Cristian | 2 |\n",
    "| Fernando | 3 |\n",
    "| Jhonatan | 4 |\n",
    "| Juacy    | 5 |\n",
    "| Mário    | 6 |\n",
    "| Victor   | 7 |\n",
    "| Michael  | 8 |\n",
    "| Rafael   | 9 | "
   ]
  },
  {
   "cell_type": "code",
   "execution_count": 85,
   "metadata": {},
   "outputs": [],
   "source": [
    "chamada = ['Bruno', 'Cristian', 'Fernando', 'Jhonatan', 'Juacy', 'Mário', 'Victor', 'Michael', 'Rafael']"
   ]
  },
  {
   "cell_type": "code",
   "execution_count": 87,
   "metadata": {},
   "outputs": [
    {
     "data": {
      "text/plain": [
       "'Fernando'"
      ]
     },
     "execution_count": 87,
     "metadata": {},
     "output_type": "execute_result"
    }
   ],
   "source": [
    "numero = 3\n",
    "chamada[numero-1]"
   ]
  },
  {
   "cell_type": "code",
   "execution_count": 89,
   "metadata": {},
   "outputs": [
    {
     "data": {
      "text/plain": [
       "3"
      ]
     },
     "execution_count": 89,
     "metadata": {},
     "output_type": "execute_result"
    }
   ],
   "source": [
    "chamada.index('Fernando') + 1"
   ]
  },
  {
   "cell_type": "code",
   "execution_count": 90,
   "metadata": {},
   "outputs": [],
   "source": [
    "chamada.insert(3, 'Fernando')"
   ]
  },
  {
   "cell_type": "code",
   "execution_count": 91,
   "metadata": {},
   "outputs": [
    {
     "data": {
      "text/plain": [
       "['Bruno',\n",
       " 'Cristian',\n",
       " 'Fernando',\n",
       " 'Fernando',\n",
       " 'Jhonatan',\n",
       " 'Juacy',\n",
       " 'Mário',\n",
       " 'Victor',\n",
       " 'Michael',\n",
       " 'Rafael']"
      ]
     },
     "execution_count": 91,
     "metadata": {},
     "output_type": "execute_result"
    }
   ],
   "source": [
    "chamada"
   ]
  },
  {
   "cell_type": "code",
   "execution_count": 92,
   "metadata": {},
   "outputs": [
    {
     "data": {
      "text/plain": [
       "3"
      ]
     },
     "execution_count": 92,
     "metadata": {},
     "output_type": "execute_result"
    }
   ],
   "source": [
    "chamada.index('Fernando') + 1"
   ]
  },
  {
   "cell_type": "markdown",
   "metadata": {},
   "source": [
    "**O que é um dicionário?**\n",
    "É uma estrutura de dados que armazena diferentes tipos de dados e funciona como um mapeamento, ou seja, temos uma **chave** e um **valor** associado a essa chave. Para encontrar algo no dicionário, basta procurar pela chave que você quer.\n",
    "\n",
    "A partir do python 3.6 o dicionário é ordenado pela ordem de inserção\n",
    "\n",
    "```python\n",
    "\n",
    "dicionario = {chave:valor}\n",
    "\n",
    "```\n",
    "\n",
    "A chave, no geral, é uma string. Já o valor é qualquer tipo de dado"
   ]
  },
  {
   "cell_type": "code",
   "execution_count": 103,
   "metadata": {},
   "outputs": [],
   "source": [
    "chamada = {\n",
    "    'Bruno': 1,\n",
    "    'Cristian': 2,\n",
    "    'Fernando' : {'primeira': 3,\n",
    "                  'segunda': 4\n",
    "                  },\n",
    "    'Jhonatan': 5,\n",
    "    'Juacy': [6,7]\n",
    "}"
   ]
  },
  {
   "cell_type": "code",
   "execution_count": 104,
   "metadata": {},
   "outputs": [
    {
     "data": {
      "text/plain": [
       "{'Bruno': 1,\n",
       " 'Cristian': 2,\n",
       " 'Fernando': {'primeira': 3, 'segunda': 4},\n",
       " 'Jhonatan': 5,\n",
       " 'Juacy': [6, 7]}"
      ]
     },
     "execution_count": 104,
     "metadata": {},
     "output_type": "execute_result"
    }
   ],
   "source": [
    "chamada"
   ]
  },
  {
   "cell_type": "code",
   "execution_count": 105,
   "metadata": {},
   "outputs": [
    {
     "data": {
      "text/plain": [
       "{'Bruno': 1,\n",
       " 'Cristian': 2,\n",
       " 'Fernando': {'primeira': 3, 'segunda': 4},\n",
       " 'Jhonatan': 5,\n",
       " 'Juacy': [6, 7]}"
      ]
     },
     "execution_count": 105,
     "metadata": {},
     "output_type": "execute_result"
    }
   ],
   "source": [
    "{'Bruno': 1, 'Cristian': 2,'Fernando': {'primeira': 3, 'segunda': 4},'Jhonatan': 5, 'Juacy': [6, 7]}"
   ]
  },
  {
   "cell_type": "code",
   "execution_count": 110,
   "metadata": {},
   "outputs": [
    {
     "data": {
      "text/plain": [
       "1"
      ]
     },
     "execution_count": 110,
     "metadata": {},
     "output_type": "execute_result"
    }
   ],
   "source": [
    "# Acessar um dicionário\n",
    "\n",
    "chamada['Bruno'] # Acessar pela chave     dicion[chave]"
   ]
  },
  {
   "cell_type": "code",
   "execution_count": 111,
   "metadata": {},
   "outputs": [
    {
     "data": {
      "text/plain": [
       "{'primeira': 3, 'segunda': 4}"
      ]
     },
     "execution_count": 111,
     "metadata": {},
     "output_type": "execute_result"
    }
   ],
   "source": [
    "chamada['Fernando']"
   ]
  },
  {
   "cell_type": "code",
   "execution_count": 112,
   "metadata": {},
   "outputs": [
    {
     "data": {
      "text/plain": [
       "3"
      ]
     },
     "execution_count": 112,
     "metadata": {},
     "output_type": "execute_result"
    }
   ],
   "source": [
    "chamada['Fernando']['primeira'] # Acessando o valor dentro do dicionário que está dentro de uma chave"
   ]
  },
  {
   "cell_type": "code",
   "execution_count": 113,
   "metadata": {},
   "outputs": [
    {
     "ename": "KeyError",
     "evalue": "'Arthur'",
     "output_type": "error",
     "traceback": [
      "\u001b[1;31m---------------------------------------------------------------------------\u001b[0m",
      "\u001b[1;31mKeyError\u001b[0m                                  Traceback (most recent call last)",
      "\u001b[1;32m~\\AppData\\Local\\Temp/ipykernel_82152/764740502.py\u001b[0m in \u001b[0;36m<module>\u001b[1;34m\u001b[0m\n\u001b[1;32m----> 1\u001b[1;33m \u001b[0mchamada\u001b[0m\u001b[1;33m[\u001b[0m\u001b[1;34m'Arthur'\u001b[0m\u001b[1;33m]\u001b[0m\u001b[1;33m\u001b[0m\u001b[1;33m\u001b[0m\u001b[0m\n\u001b[0m",
      "\u001b[1;31mKeyError\u001b[0m: 'Arthur'"
     ]
    }
   ],
   "source": [
    "chamada['Arthur'] # A chave Arthur não está presente no dicionário"
   ]
  },
  {
   "cell_type": "code",
   "execution_count": 115,
   "metadata": {},
   "outputs": [
    {
     "data": {
      "text/plain": [
       "5"
      ]
     },
     "execution_count": 115,
     "metadata": {},
     "output_type": "execute_result"
    }
   ],
   "source": [
    "# .get(chave, retorno caso não encontre)\n",
    "\n",
    "chamada.get('Jhonatan', 'Não encontrei a chave') # retornou o valor da chave que coloquei"
   ]
  },
  {
   "cell_type": "code",
   "execution_count": 116,
   "metadata": {},
   "outputs": [
    {
     "data": {
      "text/plain": [
       "'Não encontrei a chave'"
      ]
     },
     "execution_count": 116,
     "metadata": {},
     "output_type": "execute_result"
    }
   ],
   "source": [
    "chamada.get('Arthur', 'Não encontrei a chave')"
   ]
  },
  {
   "cell_type": "code",
   "execution_count": 118,
   "metadata": {},
   "outputs": [
    {
     "name": "stdout",
     "output_type": "stream",
     "text": [
      "Fernando:{'primeira': 3, 'segunda': 4}\n",
      "Juacy:[6, 7]\n",
      "Jessica: Aluno não encontrado\n",
      "Daiane: Aluno não encontrado\n",
      "Bruno:1\n"
     ]
    }
   ],
   "source": [
    "# Exemplo de busca de alunos na chamada\n",
    "\n",
    "alunos = ['Fernando', 'Juacy', 'Jessica', 'Daiane', 'Bruno'] # quero encontrar essa lista de alunos\n",
    "\n",
    "for aluno in alunos:\n",
    "    print(f'{aluno}:{chamada.get(aluno, \" Aluno não encontrado\")}')"
   ]
  },
  {
   "cell_type": "code",
   "execution_count": 120,
   "metadata": {},
   "outputs": [],
   "source": [
    "# Modificar elementos de um dicionário\n",
    "\n",
    "meu_dicionario = {\n",
    "    'Palmeiras':2,\n",
    "    'Corinthians':2,\n",
    "    'Atlético Mineiro':4,\n",
    "    'Flamengo':2,\n",
    "    'Grêmio':1,\n",
    "    'Cruzeiro':1,\n",
    "    'Santos':1,\n",
    "    'Outros':6,\n",
    "    'Vasco':0\n",
    "    \n",
    "}"
   ]
  },
  {
   "cell_type": "code",
   "execution_count": 121,
   "metadata": {},
   "outputs": [
    {
     "data": {
      "text/plain": [
       "{'Palmeiras': 2,\n",
       " 'Corinthians': 2,\n",
       " 'Atlético Mineiro': 4,\n",
       " 'Flamengo': 2,\n",
       " 'Grêmio': 1,\n",
       " 'Cruzeiro': 1,\n",
       " 'Santos': 1,\n",
       " 'Outros': 6,\n",
       " 'Vasco': 0}"
      ]
     },
     "execution_count": 121,
     "metadata": {},
     "output_type": "execute_result"
    }
   ],
   "source": [
    "meu_dicionario"
   ]
  },
  {
   "cell_type": "code",
   "execution_count": 122,
   "metadata": {},
   "outputs": [],
   "source": [
    "meu_dicionario['Vasco'] = 1 #atribuindo"
   ]
  },
  {
   "cell_type": "code",
   "execution_count": 123,
   "metadata": {},
   "outputs": [
    {
     "data": {
      "text/plain": [
       "{'Palmeiras': 2,\n",
       " 'Corinthians': 2,\n",
       " 'Atlético Mineiro': 4,\n",
       " 'Flamengo': 2,\n",
       " 'Grêmio': 1,\n",
       " 'Cruzeiro': 1,\n",
       " 'Santos': 1,\n",
       " 'Outros': 6,\n",
       " 'Vasco': 1}"
      ]
     },
     "execution_count": 123,
     "metadata": {},
     "output_type": "execute_result"
    }
   ],
   "source": [
    "meu_dicionario"
   ]
  },
  {
   "cell_type": "code",
   "execution_count": 125,
   "metadata": {},
   "outputs": [],
   "source": [
    "meu_dicionario['Palmeiras'] = meu_dicionario['Palmeiras'] + 1 # incrementar # meu_dicionario['Palmeiras'] += 1"
   ]
  },
  {
   "cell_type": "code",
   "execution_count": 128,
   "metadata": {},
   "outputs": [],
   "source": [
    "meu_dicionario['Palmeiras'] += 1"
   ]
  },
  {
   "cell_type": "code",
   "execution_count": 129,
   "metadata": {},
   "outputs": [
    {
     "data": {
      "text/plain": [
       "{'Palmeiras': 4,\n",
       " 'Corinthians': 2,\n",
       " 'Atlético Mineiro': 4,\n",
       " 'Flamengo': 2,\n",
       " 'Grêmio': 1,\n",
       " 'Cruzeiro': 1,\n",
       " 'Santos': 1,\n",
       " 'Outros': 6,\n",
       " 'Vasco': 1}"
      ]
     },
     "execution_count": 129,
     "metadata": {},
     "output_type": "execute_result"
    }
   ],
   "source": [
    "meu_dicionario"
   ]
  },
  {
   "cell_type": "code",
   "execution_count": 130,
   "metadata": {},
   "outputs": [],
   "source": [
    "meu_dicionario['Chapecoense'] = 1 # Criei a chave com o valor"
   ]
  },
  {
   "cell_type": "code",
   "execution_count": 131,
   "metadata": {},
   "outputs": [
    {
     "data": {
      "text/plain": [
       "{'Palmeiras': 4,\n",
       " 'Corinthians': 2,\n",
       " 'Atlético Mineiro': 4,\n",
       " 'Flamengo': 2,\n",
       " 'Grêmio': 1,\n",
       " 'Cruzeiro': 1,\n",
       " 'Santos': 1,\n",
       " 'Outros': 6,\n",
       " 'Vasco': 1,\n",
       " 'Chapecoense': 1}"
      ]
     },
     "execution_count": 131,
     "metadata": {},
     "output_type": "execute_result"
    }
   ],
   "source": [
    "meu_dicionario"
   ]
  },
  {
   "cell_type": "code",
   "execution_count": 134,
   "metadata": {},
   "outputs": [],
   "source": [
    "meu_dicionario['Coritiba'] = {'Verde':3, 'Branco':'quatro'} # Criei a chave com o valor"
   ]
  },
  {
   "cell_type": "code",
   "execution_count": 135,
   "metadata": {},
   "outputs": [
    {
     "data": {
      "text/plain": [
       "{'Palmeiras': 4,\n",
       " 'Corinthians': 2,\n",
       " 'Atlético Mineiro': 4,\n",
       " 'Flamengo': 2,\n",
       " 'Grêmio': 1,\n",
       " 'Cruzeiro': 1,\n",
       " 'Santos': 1,\n",
       " 'Outros': 6,\n",
       " 'Vasco': 1,\n",
       " 'Chapecoense': 1,\n",
       " 'Coritiba': {'Verde': 3, 'Branco': 'quatro'}}"
      ]
     },
     "execution_count": 135,
     "metadata": {},
     "output_type": "execute_result"
    }
   ],
   "source": [
    "meu_dicionario"
   ]
  },
  {
   "cell_type": "code",
   "execution_count": 137,
   "metadata": {},
   "outputs": [],
   "source": [
    "# Apagar uma chave\n",
    "\n",
    "del meu_dicionario['Grêmio']"
   ]
  },
  {
   "cell_type": "code",
   "execution_count": 138,
   "metadata": {},
   "outputs": [
    {
     "data": {
      "text/plain": [
       "{'Palmeiras': 4,\n",
       " 'Corinthians': 2,\n",
       " 'Atlético Mineiro': 4,\n",
       " 'Flamengo': 2,\n",
       " 'Cruzeiro': 1,\n",
       " 'Santos': 1,\n",
       " 'Outros': 6,\n",
       " 'Vasco': 1,\n",
       " 'Chapecoense': 1,\n",
       " 'Coritiba': {'Verde': 3, 'Branco': 'quatro'}}"
      ]
     },
     "execution_count": 138,
     "metadata": {},
     "output_type": "execute_result"
    }
   ],
   "source": [
    "meu_dicionario"
   ]
  },
  {
   "cell_type": "code",
   "execution_count": 139,
   "metadata": {},
   "outputs": [
    {
     "data": {
      "text/plain": [
       "dict_keys(['Palmeiras', 'Corinthians', 'Atlético Mineiro', 'Flamengo', 'Cruzeiro', 'Santos', 'Outros', 'Vasco', 'Chapecoense', 'Coritiba'])"
      ]
     },
     "execution_count": 139,
     "metadata": {},
     "output_type": "execute_result"
    }
   ],
   "source": [
    "# Percorrer um dicionário\n",
    "\n",
    "# Método .keys() --> retorna as chaves de um dicionário\n",
    "\n",
    "meu_dicionario.keys()"
   ]
  },
  {
   "cell_type": "code",
   "execution_count": 140,
   "metadata": {},
   "outputs": [
    {
     "data": {
      "text/plain": [
       "dict_values([4, 2, 4, 2, 1, 1, 6, 1, 1, {'Verde': 3, 'Branco': 'quatro'}])"
      ]
     },
     "execution_count": 140,
     "metadata": {},
     "output_type": "execute_result"
    }
   ],
   "source": [
    "# Método .values() --> retorna os valores de um dicionário\n",
    "\n",
    "meu_dicionario.values()"
   ]
  },
  {
   "cell_type": "code",
   "execution_count": 141,
   "metadata": {},
   "outputs": [
    {
     "data": {
      "text/plain": [
       "dict_items([('Palmeiras', 4), ('Corinthians', 2), ('Atlético Mineiro', 4), ('Flamengo', 2), ('Cruzeiro', 1), ('Santos', 1), ('Outros', 6), ('Vasco', 1), ('Chapecoense', 1), ('Coritiba', {'Verde': 3, 'Branco': 'quatro'})])"
      ]
     },
     "execution_count": 141,
     "metadata": {},
     "output_type": "execute_result"
    }
   ],
   "source": [
    "# Método .items() --> retorna o par chave:valor do dicionário\n",
    "\n",
    "meu_dicionario.items()"
   ]
  },
  {
   "cell_type": "code",
   "execution_count": 145,
   "metadata": {},
   "outputs": [
    {
     "name": "stdout",
     "output_type": "stream",
     "text": [
      "{'Palmeiras': 4, 'Corinthians': 2, 'Atlético Mineiro': 4, 'Flamengo': 2, 'Cruzeiro': 1, 'Santos': 1, 'Outros': 6, 'Vasco': 1, 'Chapecoense': 1, 'Coritiba': {'Verde': 3, 'Branco': 'quatro'}}\n",
      "{'Palmeiras': 4, 'Corinthians': 2, 'Atlético Mineiro': 4, 'Flamengo': 2, 'Cruzeiro': 1, 'Santos': 1, 'Outros': 6, 'Vasco': 1, 'Chapecoense': 1, 'Coritiba': {'Verde': 3, 'Branco': 'quatro'}}\n",
      "{'Palmeiras': 4, 'Corinthians': 2, 'Atlético Mineiro': 4, 'Flamengo': 2, 'Cruzeiro': 1, 'Santos': 1, 'Outros': 6, 'Vasco': 1, 'Chapecoense': 1, 'Coritiba': {'Verde': 3, 'Branco': 'quatro'}}\n",
      "{'Palmeiras': 4, 'Corinthians': 2, 'Atlético Mineiro': 4, 'Flamengo': 2, 'Cruzeiro': 1, 'Santos': 1, 'Outros': 6, 'Vasco': 1, 'Chapecoense': 1, 'Coritiba': {'Verde': 3, 'Branco': 'quatro'}}\n",
      "{'Palmeiras': 4, 'Corinthians': 2, 'Atlético Mineiro': 4, 'Flamengo': 2, 'Cruzeiro': 1, 'Santos': 1, 'Outros': 6, 'Vasco': 1, 'Chapecoense': 1, 'Coritiba': {'Verde': 3, 'Branco': 'quatro'}}\n",
      "{'Palmeiras': 4, 'Corinthians': 2, 'Atlético Mineiro': 4, 'Flamengo': 2, 'Cruzeiro': 1, 'Santos': 1, 'Outros': 6, 'Vasco': 1, 'Chapecoense': 1, 'Coritiba': {'Verde': 3, 'Branco': 'quatro'}}\n",
      "{'Palmeiras': 4, 'Corinthians': 2, 'Atlético Mineiro': 4, 'Flamengo': 2, 'Cruzeiro': 1, 'Santos': 1, 'Outros': 6, 'Vasco': 1, 'Chapecoense': 1, 'Coritiba': {'Verde': 3, 'Branco': 'quatro'}}\n",
      "{'Palmeiras': 4, 'Corinthians': 2, 'Atlético Mineiro': 4, 'Flamengo': 2, 'Cruzeiro': 1, 'Santos': 1, 'Outros': 6, 'Vasco': 1, 'Chapecoense': 1, 'Coritiba': {'Verde': 3, 'Branco': 'quatro'}}\n",
      "{'Palmeiras': 4, 'Corinthians': 2, 'Atlético Mineiro': 4, 'Flamengo': 2, 'Cruzeiro': 1, 'Santos': 1, 'Outros': 6, 'Vasco': 1, 'Chapecoense': 1, 'Coritiba': {'Verde': 3, 'Branco': 'quatro'}}\n",
      "{'Palmeiras': 4, 'Corinthians': 2, 'Atlético Mineiro': 4, 'Flamengo': 2, 'Cruzeiro': 1, 'Santos': 1, 'Outros': 6, 'Vasco': 1, 'Chapecoense': 1, 'Coritiba': {'Verde': 3, 'Branco': 'quatro'}}\n"
     ]
    }
   ],
   "source": [
    "for i in meu_dicionario: #mostra várias o dicionário\n",
    "    print(meu_dicionario)"
   ]
  },
  {
   "cell_type": "code",
   "execution_count": 146,
   "metadata": {},
   "outputs": [
    {
     "name": "stdout",
     "output_type": "stream",
     "text": [
      "Palmeiras\n",
      "Corinthians\n",
      "Atlético Mineiro\n",
      "Flamengo\n",
      "Cruzeiro\n",
      "Santos\n",
      "Outros\n",
      "Vasco\n",
      "Chapecoense\n",
      "Coritiba\n"
     ]
    }
   ],
   "source": [
    "for i in meu_dicionario: #mostra as chaves\n",
    "    print(i)"
   ]
  },
  {
   "cell_type": "code",
   "execution_count": 147,
   "metadata": {},
   "outputs": [
    {
     "name": "stdout",
     "output_type": "stream",
     "text": [
      "4\n",
      "2\n",
      "4\n",
      "2\n",
      "1\n",
      "1\n",
      "6\n",
      "1\n",
      "1\n",
      "{'Verde': 3, 'Branco': 'quatro'}\n"
     ]
    }
   ],
   "source": [
    "for i in meu_dicionario.values(): #mostra os valores das chaves\n",
    "    print(i)"
   ]
  },
  {
   "cell_type": "code",
   "execution_count": 149,
   "metadata": {},
   "outputs": [
    {
     "name": "stdout",
     "output_type": "stream",
     "text": [
      "('Palmeiras', 4)\n",
      "('Corinthians', 2)\n",
      "('Atlético Mineiro', 4)\n",
      "('Flamengo', 2)\n",
      "('Cruzeiro', 1)\n",
      "('Santos', 1)\n",
      "('Outros', 6)\n",
      "('Vasco', 1)\n",
      "('Chapecoense', 1)\n",
      "('Coritiba', {'Verde': 3, 'Branco': 'quatro'})\n"
     ]
    }
   ],
   "source": [
    "for par in meu_dicionario.items():\n",
    "    print(par)"
   ]
  },
  {
   "cell_type": "code",
   "execution_count": 148,
   "metadata": {},
   "outputs": [
    {
     "name": "stdout",
     "output_type": "stream",
     "text": [
      "O Palmeiras tem 4 mundiais\n",
      "O Corinthians tem 2 mundiais\n",
      "O Atlético Mineiro tem 4 mundiais\n",
      "O Flamengo tem 2 mundiais\n",
      "O Cruzeiro tem 1 mundiais\n",
      "O Santos tem 1 mundiais\n",
      "O Outros tem 6 mundiais\n",
      "O Vasco tem 1 mundiais\n",
      "O Chapecoense tem 1 mundiais\n",
      "O Coritiba tem {'Verde': 3, 'Branco': 'quatro'} mundiais\n"
     ]
    }
   ],
   "source": [
    "for par in meu_dicionario.items():\n",
    "    print(f'O {par[0]} tem {par[1]} mundiais')"
   ]
  },
  {
   "cell_type": "code",
   "execution_count": 150,
   "metadata": {},
   "outputs": [],
   "source": [
    "# criar um dicionário em branco\n",
    "\n",
    "meu_dicionario_vazio = dict()"
   ]
  },
  {
   "cell_type": "code",
   "execution_count": 152,
   "metadata": {},
   "outputs": [
    {
     "data": {
      "text/plain": [
       "{}"
      ]
     },
     "execution_count": 152,
     "metadata": {},
     "output_type": "execute_result"
    }
   ],
   "source": [
    "meu_dicionario_vazio \n"
   ]
  },
  {
   "cell_type": "code",
   "execution_count": null,
   "metadata": {},
   "outputs": [],
   "source": []
  },
  {
   "cell_type": "code",
   "execution_count": null,
   "metadata": {},
   "outputs": [],
   "source": []
  }
 ],
 "metadata": {
  "kernelspec": {
   "display_name": "Python 3.9.7 ('base')",
   "language": "python",
   "name": "python3"
  },
  "language_info": {
   "codemirror_mode": {
    "name": "ipython",
    "version": 3
   },
   "file_extension": ".py",
   "mimetype": "text/x-python",
   "name": "python",
   "nbconvert_exporter": "python",
   "pygments_lexer": "ipython3",
   "version": "3.9.7"
  },
  "orig_nbformat": 4,
  "vscode": {
   "interpreter": {
    "hash": "5c66de18c091297d67c9a295278ca9503b5163a383fa85591c3cdb6daec33020"
   }
  }
 },
 "nbformat": 4,
 "nbformat_minor": 2
}
